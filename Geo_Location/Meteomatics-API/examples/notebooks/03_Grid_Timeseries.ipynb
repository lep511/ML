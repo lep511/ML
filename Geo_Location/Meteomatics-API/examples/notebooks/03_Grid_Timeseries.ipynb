{
 "cells": [
  {
   "cell_type": "markdown",
   "metadata": {},
   "source": [
    "# Grid Timeseries"
   ]
  },
  {
   "cell_type": "markdown",
   "metadata": {},
   "source": [
    "First you have to import the meteomatics module and the datetime module"
   ]
  },
  {
   "cell_type": "code",
   "execution_count": 1,
   "metadata": {},
   "outputs": [],
   "source": [
    "import datetime as dt\n",
    "import meteomatics.api as api\n",
    "\n",
    "from __future__ import print_function"
   ]
  },
  {
   "cell_type": "markdown",
   "metadata": {},
   "source": [
    "Input here your username and password from your meteomatics profile"
   ]
  },
  {
   "cell_type": "code",
   "execution_count": 2,
   "metadata": {},
   "outputs": [],
   "source": [
    "###Credentials:\n",
    "username = 'python-community'\n",
    "password = 'Umivipawe179'"
   ]
  },
  {
   "cell_type": "markdown",
   "metadata": {},
   "source": [
    "Here we need a startdate, an enddate and the time interval, all as datetime-objects. The interval tells you, if you get the data in hourly steps, daily steps or every five minutes in between the startdate and the enddate."
   ]
  },
  {
   "cell_type": "code",
   "execution_count": 3,
   "metadata": {},
   "outputs": [],
   "source": [
    "now = dt.datetime.utcnow().replace(hour=0, minute=0, second=0, microsecond=0)\n",
    "startdate_ts = now\n",
    "enddate_ts = startdate_ts + dt.timedelta(days=1)\n",
    "interval_ts = dt.timedelta(hours=1)"
   ]
  },
  {
   "cell_type": "markdown",
   "metadata": {},
   "source": [
    "Choose the parameters you want to get and write them in the list. Check here which parameters are available: https://www.meteomatics.com/en/api/available-parameters/"
   ]
  },
  {
   "cell_type": "code",
   "execution_count": 4,
   "metadata": {},
   "outputs": [],
   "source": [
    "parameters_ts = ['t_2m:C', 'precip_1h:mm']"
   ]
  },
  {
   "cell_type": "markdown",
   "metadata": {},
   "source": [
    "Input here the limiting coordinates of the extract you want to look at. You can also change the resolution."
   ]
  },
  {
   "cell_type": "code",
   "execution_count": 5,
   "metadata": {},
   "outputs": [],
   "source": [
    "lat_N = 50\n",
    "lon_W = -5\n",
    "lat_S = 40\n",
    "lon_E = 5\n",
    "res_lat = 0.5\n",
    "res_lon = 0.5"
   ]
  },
  {
   "cell_type": "markdown",
   "metadata": {},
   "source": [
    "In the following, the request will start. If there is an error in the request as for example a wrong parameter or a date that doesn't exist, you get a message."
   ]
  },
  {
   "cell_type": "code",
   "execution_count": 6,
   "metadata": {
    "scrolled": true
   },
   "outputs": [
    {
     "name": "stdout",
     "output_type": "stream",
     "text": [
      "grid timeseries:\n",
      "2021-03-02 14:01:09| INFO |Calling URL: https://api.meteomatics.com/2021-03-02T00:00:00+00:00--2021-03-03T00:00:00+00:00:PT1H/t_2m:C,precip_1h:mm/50,-5_40,5:0.5,0.5/bin?connector=python_v2.1.0 (username = python-community)\n",
      "                                     t_2m:C  precip_1h:mm\n",
      "lat  lon  validdate                                      \n",
      "40.0 -5.0 2021-03-02 00:00:00+00:00     9.1           0.0\n",
      "          2021-03-02 01:00:00+00:00     9.6           0.0\n",
      "          2021-03-02 02:00:00+00:00     9.0           0.0\n",
      "          2021-03-02 03:00:00+00:00     8.5           0.0\n",
      "          2021-03-02 04:00:00+00:00     8.4           0.0\n"
     ]
    }
   ],
   "source": [
    "print(\"grid timeseries:\")\n",
    "try:\n",
    "    df_grid_timeseries = api.query_grid_timeseries(startdate_ts, enddate_ts, interval_ts, parameters_ts, lat_N,\n",
    "                                                   lon_W, lat_S, lon_E, res_lat, res_lon, username, password)\n",
    "    print (df_grid_timeseries.head())\n",
    "except Exception as e:\n",
    "    print(\"Failed, the exception is {}\".format(e))"
   ]
  },
  {
   "cell_type": "markdown",
   "metadata": {},
   "source": [
    "As output you get a pandas dataframe. The index consists of the latitude, the longitude and the date. The parametera are the different column names. It is the same as 04_unpivoted_grid, but the index is ordered in a different way.\n",
    "\n",
    "![03_grid_timeseries_output](api_demo_images/03_grid_timeseries_output.png)"
   ]
  },
  {
   "cell_type": "markdown",
   "metadata": {},
   "source": [
    "Now you can work on the data by using pandas commands. Here are some examples how you can access to the different datapoints."
   ]
  },
  {
   "cell_type": "code",
   "execution_count": 7,
   "metadata": {
    "tags": []
   },
   "outputs": [],
   "source": [
    "maximum_temperature = df_grid_timeseries['t_2m:C'].max()\n",
    "minimum_temperature = df_grid_timeseries['t_2m:C'].min()\n",
    "mean_temperature = df_grid_timeseries['t_2m:C'].mean()\n",
    "just_precipitation = df_grid_timeseries['precip_1h:mm']\n",
    "first_value_of_precipitation = df_grid_timeseries.iloc[0]['precip_1h:mm']\n",
    "just_at_12UTC = df_grid_timeseries[df_grid_timeseries.index.get_level_values('validdate').hour == 12]"
   ]
  }
 ],
 "metadata": {
  "kernelspec": {
   "display_name": "Python 3",
   "language": "python",
   "name": "python3"
  },
  "language_info": {
   "codemirror_mode": {
    "name": "ipython",
    "version": 3
   },
   "file_extension": ".py",
   "mimetype": "text/x-python",
   "name": "python",
   "nbconvert_exporter": "python",
   "pygments_lexer": "ipython3",
   "version": "3.9.1"
  }
 },
 "nbformat": 4,
 "nbformat_minor": 4
}
