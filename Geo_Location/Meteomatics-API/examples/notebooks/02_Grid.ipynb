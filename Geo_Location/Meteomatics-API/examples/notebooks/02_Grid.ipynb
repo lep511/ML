{
 "cells": [
  {
   "cell_type": "markdown",
   "metadata": {},
   "source": [
    "# Grid"
   ]
  },
  {
   "cell_type": "markdown",
   "metadata": {},
   "source": [
    "First you have to import the meteomatics module and the datetime module"
   ]
  },
  {
   "cell_type": "code",
   "execution_count": 1,
   "metadata": {
    "tags": []
   },
   "outputs": [],
   "source": [
    "import datetime as dt\n",
    "import meteomatics.api as api\n",
    "\n",
    "from __future__ import print_function"
   ]
  },
  {
   "cell_type": "markdown",
   "metadata": {},
   "source": [
    "Input here your username and password from your meteomatics profile"
   ]
  },
  {
   "cell_type": "code",
   "execution_count": 2,
   "metadata": {},
   "outputs": [],
   "source": [
    "###Credentials:\n",
    "username = 'python-community'\n",
    "password = 'Umivipawe179'"
   ]
  },
  {
   "cell_type": "markdown",
   "metadata": {},
   "source": [
    "Input here the limiting coordinates of the extract you want to look at. You can also change the resolution."
   ]
  },
  {
   "cell_type": "code",
   "execution_count": 3,
   "metadata": {},
   "outputs": [],
   "source": [
    "lat_N = 50\n",
    "lon_W = -5\n",
    "lat_S = 40\n",
    "lon_E = 5\n",
    "res_lat = 0.5\n",
    "res_lon = 0.5"
   ]
  },
  {
   "cell_type": "markdown",
   "metadata": {},
   "source": [
    "Input here the date and the time."
   ]
  },
  {
   "cell_type": "code",
   "execution_count": 4,
   "metadata": {},
   "outputs": [],
   "source": [
    "startdate_grid = dt.datetime.utcnow().replace(hour=0, minute=0, second=0, microsecond=0)"
   ]
  },
  {
   "cell_type": "markdown",
   "metadata": {},
   "source": [
    "Choose the parameter you want to get. You can only chose one parameter at a time. Check here which parameters are available: https://www.meteomatics.com/en/api/available-parameters/"
   ]
  },
  {
   "cell_type": "code",
   "execution_count": 5,
   "metadata": {},
   "outputs": [],
   "source": [
    "parameter_grid = 'low_cloud_cover:p'"
   ]
  },
  {
   "cell_type": "markdown",
   "metadata": {},
   "source": [
    "In the following, the request will start. If there is an error in the request as for example a wrong parameter or a date that doesn't exist, you get a message."
   ]
  },
  {
   "cell_type": "code",
   "execution_count": 6,
   "metadata": {
    "scrolled": true
   },
   "outputs": [
    {
     "name": "stdout",
     "output_type": "stream",
     "text": [
      "grid:\n",
      "2021-03-02 14:00:41| INFO |Calling URL: https://api.meteomatics.com/2021-03-02T00:00:00+00:00/low_cloud_cover:p/50,-5_40,5:0.5,0.5/bin?connector=python_v2.1.0 (username = python-community)\n",
      "lon   -5.0  -4.5  -4.0  -3.5  -3.0  -2.5  -2.0  -1.5  -1.0  -0.5  ...   0.5  \\\n",
      "lat                                                               ...         \n",
      "50.0   0.0   0.8   0.8   0.8   0.0   0.0   0.0   0.0   0.0   0.0  ...   0.0   \n",
      "49.5   0.0   0.0   0.0   0.0   0.0   0.0   0.0   0.0   0.0   0.0  ...   0.0   \n",
      "49.0   0.0   0.0   0.0   0.0   0.0   0.0   0.0   0.0   0.0   0.0  ...   0.0   \n",
      "48.5   0.0   0.0   0.0   0.0   0.0   0.0   0.0   0.0   0.0   0.0  ...   0.0   \n",
      "48.0   0.0   0.0   0.0   0.0   0.0   0.0   0.0   0.0   0.0   0.0  ...   0.0   \n",
      "\n",
      "lon    1.0   1.5   2.0   2.5   3.0   3.5   4.0   4.5   5.0  \n",
      "lat                                                         \n",
      "50.0   0.0   0.0   0.0   0.0   0.0   0.0   0.0   0.0   0.0  \n",
      "49.5   0.0   0.0   0.0   0.0   0.0   0.0   0.0   0.0   0.0  \n",
      "49.0   0.0   0.0   0.0   0.0   0.0   0.0   0.0   0.0   0.0  \n",
      "48.5   0.0   0.0   0.0   0.0   0.0   0.0   0.0   0.0   0.0  \n",
      "48.0   0.0   0.0   0.0   0.0   0.0   0.0   0.0   0.0   0.0  \n",
      "\n",
      "[5 rows x 21 columns]\n"
     ]
    }
   ],
   "source": [
    "print(\"grid:\")\n",
    "try:\n",
    "    df_grid = api.query_grid(startdate_grid, parameter_grid, lat_N, lon_W, lat_S, lon_E, res_lat, res_lon,\n",
    "                             username, password)\n",
    "    print (df_grid.head())\n",
    "except Exception as e:\n",
    "    print(\"Failed, the exception is {}\".format(e))"
   ]
  },
  {
   "cell_type": "markdown",
   "metadata": {},
   "source": [
    "As output you get a pandas dataframe. The index consists of the latitude, the columns of the longitude.\n",
    "\n",
    "![02_grid_output](api_demo_images/02_grid_output.png)"
   ]
  },
  {
   "cell_type": "markdown",
   "metadata": {},
   "source": [
    "Now you can work on the data by using pandas commands. Here are some examples how you can access to the different datapoints."
   ]
  },
  {
   "cell_type": "code",
   "execution_count": 7,
   "metadata": {
    "tags": []
   },
   "outputs": [],
   "source": [
    "maximum = df_grid.values.max()\n",
    "minimum = df_grid.values.min()\n",
    "mean = df_grid.values.mean()\n",
    "at_this_location = df_grid.loc[48.5, 3]\n",
    "at_this_longitude = df_grid.loc[48.5, :]\n",
    "at_this_latitude = df_grid.loc[:, 3]"
   ]
  }
 ],
 "metadata": {
  "kernelspec": {
   "display_name": "Python 3",
   "language": "python",
   "name": "python3"
  },
  "language_info": {
   "codemirror_mode": {
    "name": "ipython",
    "version": 3
   },
   "file_extension": ".py",
   "mimetype": "text/x-python",
   "name": "python",
   "nbconvert_exporter": "python",
   "pygments_lexer": "ipython3",
   "version": "3.9.1"
  }
 },
 "nbformat": 4,
 "nbformat_minor": 4
}
