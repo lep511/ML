{
 "cells": [
  {
   "cell_type": "markdown",
   "metadata": {},
   "source": [
    "# Timeseries"
   ]
  },
  {
   "cell_type": "markdown",
   "metadata": {},
   "source": [
    "First you have to import the meteomatics module and the datetime module"
   ]
  },
  {
   "cell_type": "code",
   "execution_count": null,
   "metadata": {},
   "outputs": [],
   "source": [
    "!pip install meteomatics"
   ]
  },
  {
   "cell_type": "code",
   "execution_count": 3,
   "metadata": {
    "tags": []
   },
   "outputs": [],
   "source": [
    "import datetime as dt\n",
    "import meteomatics.api as api\n",
    "\n",
    "from __future__ import print_function"
   ]
  },
  {
   "cell_type": "markdown",
   "metadata": {},
   "source": [
    "Input here your username and password from your meteomatics profile"
   ]
  },
  {
   "cell_type": "code",
   "execution_count": 4,
   "metadata": {
    "tags": []
   },
   "outputs": [],
   "source": [
    "###Credentials:\n",
    "username = 'python-community'\n",
    "password = 'Umivipawe179'"
   ]
  },
  {
   "cell_type": "markdown",
   "metadata": {},
   "source": [
    "Input here a startdate, an enddate and the time interval, all as datetime-objects. The interval tells you, if you get the data in hourly steps, daily steps or every five minutes in between the startdate and the enddate."
   ]
  },
  {
   "cell_type": "code",
   "execution_count": 42,
   "metadata": {
    "tags": []
   },
   "outputs": [],
   "source": [
    "now = dt.datetime.utcnow().replace(hour=0, minute=0, second=0, microsecond=0)\n",
    "startdate_ts = now\n",
    "enddate_ts = startdate_ts + dt.timedelta(days=10)\n",
    "interval_ts = dt.timedelta(hours=4)"
   ]
  },
  {
   "cell_type": "markdown",
   "metadata": {},
   "source": [
    "Put the coordinates you want to get as tuples (north/east) in a list. If you want to get coordinates in the south or in the west, just write a minus in front of the number."
   ]
  },
  {
   "cell_type": "code",
   "execution_count": 43,
   "metadata": {
    "tags": []
   },
   "outputs": [],
   "source": [
    "#coordinates_ts = [(-33.31,-57.76), (-34.60,-54.64)]\n",
    "#coordinates_ts = [(47.25,9.34), (30,-4)]\n",
    "coordinates_ts = [(41.28, 1.99)]"
   ]
  },
  {
   "cell_type": "markdown",
   "metadata": {},
   "source": [
    "Choose the parameters you want to get and write them in the list. Check here which parameters are available: https://www.meteomatics.com/en/api/available-parameters/"
   ]
  },
  {
   "cell_type": "code",
   "execution_count": 44,
   "metadata": {
    "tags": []
   },
   "outputs": [],
   "source": [
    "parameters_ts = ['t_2m:C', 'precip_1h:mm', 'msl_pressure:hPa']"
   ]
  },
  {
   "cell_type": "markdown",
   "metadata": {},
   "source": [
    "In the following, the request will start. If there is an error in the request as for example a wrong parameter or a date that doesn't exist, you get a message."
   ]
  },
  {
   "cell_type": "code",
   "execution_count": 45,
   "metadata": {},
   "outputs": [
    {
     "name": "stdout",
     "output_type": "stream",
     "text": [
      "time series:\n",
      "                                      t_2m:C  precip_1h:mm  msl_pressure:hPa\n",
      "lat   lon  validdate                                                        \n",
      "41.28 1.99 2022-06-21 00:00:00+00:00    22.2          0.00            1011.7\n",
      "           2022-06-21 04:00:00+00:00    21.3          0.00            1009.2\n",
      "           2022-06-21 08:00:00+00:00    25.6          0.00            1011.9\n",
      "           2022-06-21 12:00:00+00:00    27.8          0.00            1011.8\n",
      "           2022-06-21 16:00:00+00:00    26.5          0.00            1010.6\n",
      "           2022-06-21 20:00:00+00:00    24.3          0.22            1010.6\n",
      "           2022-06-22 00:00:00+00:00    22.6          0.85            1010.0\n",
      "           2022-06-22 04:00:00+00:00    22.5          0.00            1009.1\n",
      "           2022-06-22 08:00:00+00:00    26.3          0.11            1011.3\n",
      "           2022-06-22 12:00:00+00:00    28.7          0.09            1011.9\n"
     ]
    }
   ],
   "source": [
    "print(\"time series:\")\n",
    "try:\n",
    "    df_ts = api.query_time_series(coordinates_ts, startdate_ts, enddate_ts, interval_ts,\n",
    "                                  parameters_ts, username, password)\n",
    "    print (df_ts.head(10))\n",
    "except Exception as e:\n",
    "    print(\"Failed, the exception is {}\".format(e))"
   ]
  },
  {
   "cell_type": "markdown",
   "metadata": {},
   "source": [
    "As output you get a pandas dataframe. The latitude, longitude and the date are in the index, the parameter is a column name.\n",
    "\n",
    "![01_timeseries_output](api_demo_images/01_timeseries_output.png)"
   ]
  },
  {
   "cell_type": "markdown",
   "metadata": {},
   "source": [
    "Now you can work on the data by using pandas commands. Here are some examples how you can access to the different datapoints."
   ]
  },
  {
   "cell_type": "code",
   "execution_count": 46,
   "metadata": {
    "scrolled": true,
    "tags": []
   },
   "outputs": [],
   "source": [
    "maximum_temperature = df_ts['t_2m:C'].max()\n",
    "minimum_temperature = df_ts['t_2m:C'].min()\n",
    "mean_temperature = df_ts['t_2m:C'].mean()\n",
    "just_precipitation = df_ts['precip_1h:mm']\n",
    "first_value_of_precipitation = df_ts.iloc[0]['precip_1h:mm']\n",
    "just_at_12UTC = df_ts[df_ts.index.get_level_values('validdate').hour == 12]\n",
    "just_at_4degrees_south = df_ts[df_ts.index.get_level_values('lon') == -4]"
   ]
  }
 ],
 "metadata": {
  "kernelspec": {
   "display_name": "default:Python",
   "language": "python",
   "name": "conda-env-default-py"
  },
  "language_info": {
   "codemirror_mode": {
    "name": "ipython",
    "version": 3
   },
   "file_extension": ".py",
   "mimetype": "text/x-python",
   "name": "python",
   "nbconvert_exporter": "python",
   "pygments_lexer": "ipython3",
   "version": "3.9.10"
  }
 },
 "nbformat": 4,
 "nbformat_minor": 4
}
