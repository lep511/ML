{
 "cells": [
  {
   "cell_type": "markdown",
   "metadata": {},
   "source": [
    "# Get init dates"
   ]
  },
  {
   "cell_type": "markdown",
   "metadata": {},
   "source": [
    "First you have to import the meteomatics module and the datetime module"
   ]
  },
  {
   "cell_type": "code",
   "execution_count": 1,
   "metadata": {},
   "outputs": [],
   "source": [
    "import datetime as dt\n",
    "import meteomatics.api as api\n",
    "\n",
    "from __future__ import print_function"
   ]
  },
  {
   "cell_type": "markdown",
   "metadata": {},
   "source": [
    "Input here your username and password from your meteomatics profile"
   ]
  },
  {
   "cell_type": "code",
   "execution_count": 2,
   "metadata": {},
   "outputs": [],
   "source": [
    "###Credentials:\n",
    "username = 'python-community'\n",
    "password = 'Umivipawe179'"
   ]
  },
  {
   "cell_type": "markdown",
   "metadata": {},
   "source": [
    "Input here todays date."
   ]
  },
  {
   "cell_type": "code",
   "execution_count": 3,
   "metadata": {
    "scrolled": true
   },
   "outputs": [],
   "source": [
    "now = dt.datetime.utcnow().replace(hour=0, minute=0, second=0, microsecond=0)"
   ]
  },
  {
   "cell_type": "markdown",
   "metadata": {},
   "source": [
    "In the following, the request will start.\n",
    "You can make some additional changes directly in the query for the api. You can change the parameter and the chosen model there. As output, you get a pandas data frame. You can see, from which model run your data is. If there is an error in the request as for example a wrong parameter or a date that doesn't exist, you get a message. Note, that this model is not available for the 'python-community' trial account."
   ]
  },
  {
   "cell_type": "code",
   "execution_count": 4,
   "metadata": {
    "scrolled": true
   },
   "outputs": [
    {
     "name": "stdout",
     "output_type": "stream",
     "text": [
      "get init dates:\n",
      "2021-03-02 14:14:16| INFO |Calling URL: https://api.meteomatics.com/get_init_date?model=ecmwf-ens&valid_date=2021-03-02T00:00:00+00:00--2021-03-04T00:00:00+00:00:PT3H&parameters=t_2m:C (username = python-community)\n",
      "                                  initdate_t_2m:sql\n",
      "validdate                                          \n",
      "2021-03-02 00:00:00+00:00 2021-03-01 18:00:00+00:00\n",
      "2021-03-02 03:00:00+00:00 2021-03-02 00:00:00+00:00\n",
      "2021-03-02 06:00:00+00:00 2021-03-02 00:00:00+00:00\n",
      "2021-03-02 09:00:00+00:00 2021-03-02 06:00:00+00:00\n",
      "2021-03-02 12:00:00+00:00 2021-03-02 06:00:00+00:00\n"
     ]
    }
   ],
   "source": [
    "print(\"get init dates:\")\n",
    "try:\n",
    "    df_init_dates = api.query_init_date(now, now + dt.timedelta(days=2), dt.timedelta(hours=3), 't_2m:C',\n",
    "                                        username, password, 'ecmwf-ens')\n",
    "    print(df_init_dates.head())\n",
    "except Exception as e:\n",
    "    print(\"Failed, the exception is {}\".format(e))"
   ]
  },
  {
   "cell_type": "markdown",
   "metadata": {},
   "source": [
    "As output you will get a pandas dataframe with the date as index.\n",
    "\n",
    "![12_get_init_dates_output](api_demo_images/12_get_init_dates_output.png)"
   ]
  }
 ],
 "metadata": {
  "kernelspec": {
   "display_name": "Python 3",
   "language": "python",
   "name": "python3"
  },
  "language_info": {
   "codemirror_mode": {
    "name": "ipython",
    "version": 3
   },
   "file_extension": ".py",
   "mimetype": "text/x-python",
   "name": "python",
   "nbconvert_exporter": "python",
   "pygments_lexer": "ipython3",
   "version": "3.9.1"
  }
 },
 "nbformat": 4,
 "nbformat_minor": 4
}
