{
 "cells": [
  {
   "cell_type": "markdown",
   "metadata": {},
   "source": [
    "# Find Stations"
   ]
  },
  {
   "cell_type": "markdown",
   "metadata": {},
   "source": [
    "First you have to import the meteomatics module and the datetime module"
   ]
  },
  {
   "cell_type": "code",
   "execution_count": 1,
   "metadata": {},
   "outputs": [],
   "source": [
    "import datetime as dt\n",
    "import meteomatics.api as api\n",
    "\n",
    "from __future__ import print_function"
   ]
  },
  {
   "cell_type": "markdown",
   "metadata": {},
   "source": [
    "Input here your username and password from your meteomatics profile"
   ]
  },
  {
   "cell_type": "code",
   "execution_count": 2,
   "metadata": {},
   "outputs": [],
   "source": [
    "###Credentials:\n",
    "username = 'python-community'\n",
    "password = 'Umivipawe179'"
   ]
  },
  {
   "cell_type": "markdown",
   "metadata": {},
   "source": [
    "Input here a startdate, an enddate and the time interval, all as datetime-objects. The interval tells you, if you get the data in hourly steps, daily steps or every five minutes in between the startdate and the enddate. Make sure that the enddate is not in the future, because there are no station measurements from the future."
   ]
  },
  {
   "cell_type": "code",
   "execution_count": 3,
   "metadata": {},
   "outputs": [],
   "source": [
    "startdate_station_ts = dt.datetime.utcnow().replace(hour=0, minute=0, second=0, microsecond=0)-dt.timedelta(days=2)\n",
    "enddate_station_ts = startdate_station_ts + dt.timedelta(days=1)\n",
    "interval_station_ts = dt.timedelta(hours=1)"
   ]
  },
  {
   "cell_type": "markdown",
   "metadata": {},
   "source": [
    "Choose the parameters you want to get and put them into a list. Check here which parameters are available: https://www.meteomatics.com/en/api/available-parameters/"
   ]
  },
  {
   "cell_type": "code",
   "execution_count": 4,
   "metadata": {},
   "outputs": [],
   "source": [
    "parameters_station_ts = ['t_2m:C']"
   ]
  },
  {
   "cell_type": "markdown",
   "metadata": {},
   "source": [
    "Optional: Input here an elevation (height above sea level). It will look first for stations that are close to this height."
   ]
  },
  {
   "cell_type": "code",
   "execution_count": 5,
   "metadata": {},
   "outputs": [],
   "source": [
    "elevation = 1300"
   ]
  },
  {
   "cell_type": "markdown",
   "metadata": {},
   "source": [
    "Optional: Define here a location, from where you are looking for a station. \n",
    "There are different possibilities to define the location in this query:\n",
    "+ location = “lat,lon” ex: location = ‘47,8’\n",
    "+ location = “lat_max,lon_min_lat_min,lon_max” ex: location = ‘47,8_40,15’ (This covers an area from 40°N to 47°N and from 8°E to 15°E)\n",
    "+ location = ”predefined area” ex: location = ‘uk’\n",
    "\n",
    "Pay attention: In contrary to other queries, the coordinates have to be in the form of strings without spaces in between."
   ]
  },
  {
   "cell_type": "code",
   "execution_count": 14,
   "metadata": {
    "scrolled": true
   },
   "outputs": [],
   "source": [
    "#location = '47,9_46,10'\n",
    "location = '34,56'"
   ]
  },
  {
   "cell_type": "markdown",
   "metadata": {},
   "source": [
    "In the following, the request will start. If there is an error in the request as for example a wrong parameter or a date that doesn't exist, you get a message."
   ]
  },
  {
   "cell_type": "code",
   "execution_count": 15,
   "metadata": {},
   "outputs": [
    {
     "name": "stdout",
     "output_type": "stream",
     "text": [
      "find stations:\n",
      "  Station Category Station Type     ID Hash  WMO ID Alternative IDs  \\\n",
      "0            SYNOP         SYNO  1545243796  407890             NaN   \n",
      "1            SYNOP         SYNO  1977400937  407910            OIMT   \n",
      "\n",
      "            Name Elevation            Start Date              End Date  \\\n",
      "0           Khor      845m  2017-01-01T00:00:00Z  2022-06-21T00:00:00Z   \n",
      "1  Tabas Airport      705m  2017-01-01T00:00:00Z  2022-06-21T01:00:00Z   \n",
      "\n",
      "   Horizontal Distance  Vertical Distance  Effective Distance      lat  \\\n",
      "0              88070.2               -455              148737  33.7833   \n",
      "1              90448.9               -595              169782  33.6678   \n",
      "\n",
      "       lon  \n",
      "0  55.0833  \n",
      "1  56.8927  \n"
     ]
    },
    {
     "name": "stderr",
     "output_type": "stream",
     "text": [
      "/home/studio-lab-user/.conda/envs/default/lib/python3.9/site-packages/meteomatics/api.py:163: FutureWarning: In a future version of pandas all arguments of DataFrame.drop except for the argument 'labels' will be keyword-only.\n",
      "  sl.drop('Location Lat,Lon', 1, inplace=True)\n"
     ]
    }
   ],
   "source": [
    "print(\"find stations:\")\n",
    "try:\n",
    "    met = api.query_station_list(username, password, startdate=startdate_station_ts, enddate=enddate_station_ts,\n",
    "                                 parameters=parameters_station_ts, location=location, elevation=elevation)\n",
    "    print(met.head())\n",
    "except Exception as e:\n",
    "    print(\"Failed, the exception is {}\".format(e))"
   ]
  },
  {
   "cell_type": "markdown",
   "metadata": {},
   "source": [
    "As output you get a pandas dataframe filled with stations. The best matching stations to your request appear on top.\n",
    "\n",
    "![09_find_stations_output](api_demo_images/09_find_stations_output.png)"
   ]
  },
  {
   "cell_type": "markdown",
   "metadata": {},
   "source": [
    "Now you can work on the data by using pandas commands. Here are some examples how you can access to the different datapoints."
   ]
  },
  {
   "cell_type": "code",
   "execution_count": 8,
   "metadata": {
    "tags": []
   },
   "outputs": [],
   "source": [
    "best_fitting_station = met.iloc[0]\n",
    "name_of_best_fitting_station = met.loc[0, 'Name']\n",
    "station_with_least_vertical_distance = met.iloc[abs(met['Vertical Distance']).idxmin()]"
   ]
  }
 ],
 "metadata": {
  "kernelspec": {
   "display_name": "default:Python",
   "language": "python",
   "name": "conda-env-default-py"
  },
  "language_info": {
   "codemirror_mode": {
    "name": "ipython",
    "version": 3
   },
   "file_extension": ".py",
   "mimetype": "text/x-python",
   "name": "python",
   "nbconvert_exporter": "python",
   "pygments_lexer": "ipython3",
   "version": "3.9.10"
  }
 },
 "nbformat": 4,
 "nbformat_minor": 4
}
