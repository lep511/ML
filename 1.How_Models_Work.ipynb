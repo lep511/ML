{
 "cells": [
  {
   "cell_type": "markdown",
   "id": "e977fcc2-35c5-4176-86d4-e31c00da97e0",
   "metadata": {
    "tags": []
   },
   "source": [
    "# Cómo funcionan los modelos\n",
    "\n",
    "## Introducción\n",
    "\n",
    "Comenzaremos con una visión general de cómo funcionan los modelos de aprendizaje automático y cómo se utilizan. Esto puede parecer básico si ya has hecho modelado estadístico o aprendizaje automático antes. No te preocupes, pronto pasaremos a construir modelos potentes.\n",
    "\n",
    "En este curso tendrás que construir modelos a medida que avanzas en el siguiente escenario:\n",
    "\n",
    "* Tu primo ha ganado millones de dólares especulando con bienes raíces. Se ha ofrecido a convertirse en socio de negocios contigo por tu interés en la ciencia de los datos. Él aportará el dinero y tú suministrarás los modelos que predicen el valor de varias casas.\n",
    "\n",
    "* Le preguntas a tu primo cómo ha predicho los valores inmobiliarios en el pasado, y te dice que es sólo intuición. Pero si le preguntas más, te dirá que ha identificado patrones de precios en las casas que ha visto en el pasado y que utiliza esos patrones para hacer predicciones sobre las nuevas casas que está considerando.\n",
    "\n",
    "El aprendizaje automático funciona de la misma manera. Empezaremos con un modelo llamado árbol de decisión. Hay modelos más sofisticados que ofrecen predicciones más precisas. Pero los árboles de decisión son fáciles de entender, y son el bloque de construcción básico para algunos de los mejores modelos en la ciencia de datos.\n",
    "\n",
    "Para simplificar, empezaremos con el árbol de decisión más simple posible.\n",
    "\n",
    "![img](http://i.imgur.com/7tsb5b1.png)\n",
    "\n",
    "Divide las casas en sólo dos categorías. El precio previsto para cualquier casa considerada es el precio medio histórico de las casas de la misma categoría.\n",
    "\n",
    "Utilizamos los datos para decidir cómo dividir las casas en dos grupos y, a continuación, para determinar el precio previsto en cada grupo. Este paso de captación de patrones a partir de los datos se denomina ajuste o entrenamiento del modelo. Los datos utilizados para ajustar el modelo se denominan datos de entrenamiento (training data).\n",
    "\n",
    "Los detalles de cómo se ajusta el modelo (por ejemplo, cómo dividir los datos) son lo suficientemente complejos como para dejarlos para más adelante. Una vez ajustado el modelo, puede aplicarlo a nuevos datos para predecir los precios de otras viviendas."
   ]
  },
  {
   "cell_type": "markdown",
   "id": "4e2a0c4c-e766-4600-b4c3-e5bca344166c",
   "metadata": {},
   "source": [
    "## Mejorar el árbol de decisión\n",
    "\n",
    "¿Cuál de los dos árboles de decisión siguientes es más probable que resulte del ajuste de los datos de entrenamiento del sector inmobiliario?\n",
    "\n",
    "![img2](http://i.imgur.com/prAjgku.png)\n",
    "\n",
    "El árbol de decisión de la izquierda (Árbol de decisión 1) probablemente tenga más sentido, porque capta la realidad de que las casas con más dormitorios tienden a venderse a precios más altos que las casas con menos dormitorios. El mayor defecto de este modelo es que no recoge la mayoría de los factores que afectan al precio de la vivienda, como el número de baños, el tamaño del terreno, la ubicación, etc.\n",
    "\n",
    "Se pueden captar más factores utilizando un árbol que tenga más \"divisiones\". Estos árboles se denominan \"más profundos\". Un árbol de decisión que también tenga en cuenta el tamaño total del terreno de cada casa podría tener este aspecto:\n",
    "\n",
    "![img3](http://i.imgur.com/R3ywQsR.png)\n",
    "\n",
    "Para predecir el precio de una casa cualquiera, se recorre el árbol de decisión, eligiendo siempre el camino correspondiente a las características de esa casa. El precio previsto para la casa se encuentra en la parte inferior del árbol. El punto de la parte inferior en el que hacemos una predicción se llama hoja.\n",
    "\n",
    "Las divisiones y los valores en las hojas vendrán determinados por los datos, así que es hora de que compruebes los datos con los que vas a trabajar."
   ]
  },
  {
   "cell_type": "markdown",
   "id": "4f2d3042-37bb-4a28-aec9-9de4c09613b4",
   "metadata": {},
   "source": [
    "## Exploración de datos básicos\n",
    "\n",
    "### Uso de Pandas para familiarizarse con los datos\n",
    "\n",
    "El primer paso en cualquier proyecto de aprendizaje automático es familiarizarse con los datos. Para ello utilizarás la librería Pandas. Pandas es la principal herramienta que utilizan los científicos de datos para explorar y manipular los datos. La mayoría de la gente abrevia pandas en su código como pd. Lo hacemos con el comando"
   ]
  },
  {
   "cell_type": "code",
   "execution_count": 1,
   "id": "9940ba6c-ac4d-47d0-86b4-858c5b21bd72",
   "metadata": {},
   "outputs": [],
   "source": [
    "import pandas as pd\n",
    "pd.set_option('display.max_columns', 25)"
   ]
  },
  {
   "cell_type": "markdown",
   "id": "92572f57-01ef-463a-a170-e0a058d92a71",
   "metadata": {},
   "source": [
    "Como ejemplo, veremos datos sobre los precios de las viviendas en Melbourne, Australia. En los ejercicios prácticos, aplicará los mismos procesos a un nuevo conjunto de datos, que tiene los precios de las viviendas en Iowa. Cargamos y exploramos los datos con los siguientes comandos:"
   ]
  },
  {
   "cell_type": "code",
   "execution_count": 2,
   "id": "febf8bd1-4655-4fe0-be2d-4fb76d45194b",
   "metadata": {},
   "outputs": [
    {
     "name": "stdout",
     "output_type": "stream",
     "text": [
      "Rows: 13580  Columns: 21\n"
     ]
    },
    {
     "data": {
      "text/html": [
       "<div>\n",
       "<style scoped>\n",
       "    .dataframe tbody tr th:only-of-type {\n",
       "        vertical-align: middle;\n",
       "    }\n",
       "\n",
       "    .dataframe tbody tr th {\n",
       "        vertical-align: top;\n",
       "    }\n",
       "\n",
       "    .dataframe thead th {\n",
       "        text-align: right;\n",
       "    }\n",
       "</style>\n",
       "<table border=\"1\" class=\"dataframe\">\n",
       "  <thead>\n",
       "    <tr style=\"text-align: right;\">\n",
       "      <th></th>\n",
       "      <th>Suburb</th>\n",
       "      <th>Address</th>\n",
       "      <th>Rooms</th>\n",
       "      <th>Type</th>\n",
       "      <th>Price</th>\n",
       "      <th>Method</th>\n",
       "      <th>SellerG</th>\n",
       "      <th>Date</th>\n",
       "      <th>Distance</th>\n",
       "      <th>Postcode</th>\n",
       "      <th>Bedroom2</th>\n",
       "      <th>Bathroom</th>\n",
       "      <th>Car</th>\n",
       "      <th>Landsize</th>\n",
       "      <th>BuildingArea</th>\n",
       "      <th>YearBuilt</th>\n",
       "      <th>CouncilArea</th>\n",
       "      <th>Lattitude</th>\n",
       "      <th>Longtitude</th>\n",
       "      <th>Regionname</th>\n",
       "      <th>Propertycount</th>\n",
       "    </tr>\n",
       "  </thead>\n",
       "  <tbody>\n",
       "    <tr>\n",
       "      <th>0</th>\n",
       "      <td>Abbotsford</td>\n",
       "      <td>85 Turner St</td>\n",
       "      <td>2</td>\n",
       "      <td>h</td>\n",
       "      <td>1480000.0</td>\n",
       "      <td>S</td>\n",
       "      <td>Biggin</td>\n",
       "      <td>3/12/2016</td>\n",
       "      <td>2.5</td>\n",
       "      <td>3067.0</td>\n",
       "      <td>2.0</td>\n",
       "      <td>1.0</td>\n",
       "      <td>1.0</td>\n",
       "      <td>202.0</td>\n",
       "      <td>NaN</td>\n",
       "      <td>NaN</td>\n",
       "      <td>Yarra</td>\n",
       "      <td>-37.7996</td>\n",
       "      <td>144.9984</td>\n",
       "      <td>Northern Metropolitan</td>\n",
       "      <td>4019.0</td>\n",
       "    </tr>\n",
       "    <tr>\n",
       "      <th>1</th>\n",
       "      <td>Abbotsford</td>\n",
       "      <td>25 Bloomburg St</td>\n",
       "      <td>2</td>\n",
       "      <td>h</td>\n",
       "      <td>1035000.0</td>\n",
       "      <td>S</td>\n",
       "      <td>Biggin</td>\n",
       "      <td>4/02/2016</td>\n",
       "      <td>2.5</td>\n",
       "      <td>3067.0</td>\n",
       "      <td>2.0</td>\n",
       "      <td>1.0</td>\n",
       "      <td>0.0</td>\n",
       "      <td>156.0</td>\n",
       "      <td>79.0</td>\n",
       "      <td>1900.0</td>\n",
       "      <td>Yarra</td>\n",
       "      <td>-37.8079</td>\n",
       "      <td>144.9934</td>\n",
       "      <td>Northern Metropolitan</td>\n",
       "      <td>4019.0</td>\n",
       "    </tr>\n",
       "    <tr>\n",
       "      <th>2</th>\n",
       "      <td>Abbotsford</td>\n",
       "      <td>5 Charles St</td>\n",
       "      <td>3</td>\n",
       "      <td>h</td>\n",
       "      <td>1465000.0</td>\n",
       "      <td>SP</td>\n",
       "      <td>Biggin</td>\n",
       "      <td>4/03/2017</td>\n",
       "      <td>2.5</td>\n",
       "      <td>3067.0</td>\n",
       "      <td>3.0</td>\n",
       "      <td>2.0</td>\n",
       "      <td>0.0</td>\n",
       "      <td>134.0</td>\n",
       "      <td>150.0</td>\n",
       "      <td>1900.0</td>\n",
       "      <td>Yarra</td>\n",
       "      <td>-37.8093</td>\n",
       "      <td>144.9944</td>\n",
       "      <td>Northern Metropolitan</td>\n",
       "      <td>4019.0</td>\n",
       "    </tr>\n",
       "    <tr>\n",
       "      <th>3</th>\n",
       "      <td>Abbotsford</td>\n",
       "      <td>40 Federation La</td>\n",
       "      <td>3</td>\n",
       "      <td>h</td>\n",
       "      <td>850000.0</td>\n",
       "      <td>PI</td>\n",
       "      <td>Biggin</td>\n",
       "      <td>4/03/2017</td>\n",
       "      <td>2.5</td>\n",
       "      <td>3067.0</td>\n",
       "      <td>3.0</td>\n",
       "      <td>2.0</td>\n",
       "      <td>1.0</td>\n",
       "      <td>94.0</td>\n",
       "      <td>NaN</td>\n",
       "      <td>NaN</td>\n",
       "      <td>Yarra</td>\n",
       "      <td>-37.7969</td>\n",
       "      <td>144.9969</td>\n",
       "      <td>Northern Metropolitan</td>\n",
       "      <td>4019.0</td>\n",
       "    </tr>\n",
       "    <tr>\n",
       "      <th>4</th>\n",
       "      <td>Abbotsford</td>\n",
       "      <td>55a Park St</td>\n",
       "      <td>4</td>\n",
       "      <td>h</td>\n",
       "      <td>1600000.0</td>\n",
       "      <td>VB</td>\n",
       "      <td>Nelson</td>\n",
       "      <td>4/06/2016</td>\n",
       "      <td>2.5</td>\n",
       "      <td>3067.0</td>\n",
       "      <td>3.0</td>\n",
       "      <td>1.0</td>\n",
       "      <td>2.0</td>\n",
       "      <td>120.0</td>\n",
       "      <td>142.0</td>\n",
       "      <td>2014.0</td>\n",
       "      <td>Yarra</td>\n",
       "      <td>-37.8072</td>\n",
       "      <td>144.9941</td>\n",
       "      <td>Northern Metropolitan</td>\n",
       "      <td>4019.0</td>\n",
       "    </tr>\n",
       "  </tbody>\n",
       "</table>\n",
       "</div>"
      ],
      "text/plain": [
       "       Suburb           Address  Rooms Type      Price Method SellerG  \\\n",
       "0  Abbotsford      85 Turner St      2    h  1480000.0      S  Biggin   \n",
       "1  Abbotsford   25 Bloomburg St      2    h  1035000.0      S  Biggin   \n",
       "2  Abbotsford      5 Charles St      3    h  1465000.0     SP  Biggin   \n",
       "3  Abbotsford  40 Federation La      3    h   850000.0     PI  Biggin   \n",
       "4  Abbotsford       55a Park St      4    h  1600000.0     VB  Nelson   \n",
       "\n",
       "        Date  Distance  Postcode  Bedroom2  Bathroom  Car  Landsize  \\\n",
       "0  3/12/2016       2.5    3067.0       2.0       1.0  1.0     202.0   \n",
       "1  4/02/2016       2.5    3067.0       2.0       1.0  0.0     156.0   \n",
       "2  4/03/2017       2.5    3067.0       3.0       2.0  0.0     134.0   \n",
       "3  4/03/2017       2.5    3067.0       3.0       2.0  1.0      94.0   \n",
       "4  4/06/2016       2.5    3067.0       3.0       1.0  2.0     120.0   \n",
       "\n",
       "   BuildingArea  YearBuilt CouncilArea  Lattitude  Longtitude  \\\n",
       "0           NaN        NaN       Yarra   -37.7996    144.9984   \n",
       "1          79.0     1900.0       Yarra   -37.8079    144.9934   \n",
       "2         150.0     1900.0       Yarra   -37.8093    144.9944   \n",
       "3           NaN        NaN       Yarra   -37.7969    144.9969   \n",
       "4         142.0     2014.0       Yarra   -37.8072    144.9941   \n",
       "\n",
       "              Regionname  Propertycount  \n",
       "0  Northern Metropolitan         4019.0  \n",
       "1  Northern Metropolitan         4019.0  \n",
       "2  Northern Metropolitan         4019.0  \n",
       "3  Northern Metropolitan         4019.0  \n",
       "4  Northern Metropolitan         4019.0  "
      ]
     },
     "execution_count": 2,
     "metadata": {},
     "output_type": "execute_result"
    }
   ],
   "source": [
    "melbourne_data = pd.read_csv(\"melb_data.csv\") \n",
    "print(f\"Rows: {melbourne_data.shape[0]}  Columns: {melbourne_data.shape[1]}\")\n",
    "melbourne_data.head()"
   ]
  },
  {
   "cell_type": "code",
   "execution_count": 3,
   "id": "e2048d85-5d8d-4ad6-97c8-708f935a78c7",
   "metadata": {},
   "outputs": [
    {
     "data": {
      "text/html": [
       "<div>\n",
       "<style scoped>\n",
       "    .dataframe tbody tr th:only-of-type {\n",
       "        vertical-align: middle;\n",
       "    }\n",
       "\n",
       "    .dataframe tbody tr th {\n",
       "        vertical-align: top;\n",
       "    }\n",
       "\n",
       "    .dataframe thead th {\n",
       "        text-align: right;\n",
       "    }\n",
       "</style>\n",
       "<table border=\"1\" class=\"dataframe\">\n",
       "  <thead>\n",
       "    <tr style=\"text-align: right;\">\n",
       "      <th></th>\n",
       "      <th>Rooms</th>\n",
       "      <th>Price</th>\n",
       "      <th>Distance</th>\n",
       "      <th>Postcode</th>\n",
       "      <th>Bedroom2</th>\n",
       "      <th>Bathroom</th>\n",
       "      <th>Car</th>\n",
       "      <th>Landsize</th>\n",
       "      <th>BuildingArea</th>\n",
       "      <th>YearBuilt</th>\n",
       "      <th>Lattitude</th>\n",
       "      <th>Longtitude</th>\n",
       "      <th>Propertycount</th>\n",
       "    </tr>\n",
       "  </thead>\n",
       "  <tbody>\n",
       "    <tr>\n",
       "      <th>count</th>\n",
       "      <td>13580.000000</td>\n",
       "      <td>1.358000e+04</td>\n",
       "      <td>13580.000000</td>\n",
       "      <td>13580.000000</td>\n",
       "      <td>13580.000000</td>\n",
       "      <td>13580.000000</td>\n",
       "      <td>13518.000000</td>\n",
       "      <td>13580.000000</td>\n",
       "      <td>7130.000000</td>\n",
       "      <td>8205.000000</td>\n",
       "      <td>13580.000000</td>\n",
       "      <td>13580.000000</td>\n",
       "      <td>13580.000000</td>\n",
       "    </tr>\n",
       "    <tr>\n",
       "      <th>mean</th>\n",
       "      <td>2.937997</td>\n",
       "      <td>1.075684e+06</td>\n",
       "      <td>10.137776</td>\n",
       "      <td>3105.301915</td>\n",
       "      <td>2.914728</td>\n",
       "      <td>1.534242</td>\n",
       "      <td>1.610075</td>\n",
       "      <td>558.416127</td>\n",
       "      <td>151.967650</td>\n",
       "      <td>1964.684217</td>\n",
       "      <td>-37.809203</td>\n",
       "      <td>144.995216</td>\n",
       "      <td>7454.417378</td>\n",
       "    </tr>\n",
       "    <tr>\n",
       "      <th>std</th>\n",
       "      <td>0.955748</td>\n",
       "      <td>6.393107e+05</td>\n",
       "      <td>5.868725</td>\n",
       "      <td>90.676964</td>\n",
       "      <td>0.965921</td>\n",
       "      <td>0.691712</td>\n",
       "      <td>0.962634</td>\n",
       "      <td>3990.669241</td>\n",
       "      <td>541.014538</td>\n",
       "      <td>37.273762</td>\n",
       "      <td>0.079260</td>\n",
       "      <td>0.103916</td>\n",
       "      <td>4378.581772</td>\n",
       "    </tr>\n",
       "    <tr>\n",
       "      <th>min</th>\n",
       "      <td>1.000000</td>\n",
       "      <td>8.500000e+04</td>\n",
       "      <td>0.000000</td>\n",
       "      <td>3000.000000</td>\n",
       "      <td>0.000000</td>\n",
       "      <td>0.000000</td>\n",
       "      <td>0.000000</td>\n",
       "      <td>0.000000</td>\n",
       "      <td>0.000000</td>\n",
       "      <td>1196.000000</td>\n",
       "      <td>-38.182550</td>\n",
       "      <td>144.431810</td>\n",
       "      <td>249.000000</td>\n",
       "    </tr>\n",
       "    <tr>\n",
       "      <th>25%</th>\n",
       "      <td>2.000000</td>\n",
       "      <td>6.500000e+05</td>\n",
       "      <td>6.100000</td>\n",
       "      <td>3044.000000</td>\n",
       "      <td>2.000000</td>\n",
       "      <td>1.000000</td>\n",
       "      <td>1.000000</td>\n",
       "      <td>177.000000</td>\n",
       "      <td>93.000000</td>\n",
       "      <td>1940.000000</td>\n",
       "      <td>-37.856822</td>\n",
       "      <td>144.929600</td>\n",
       "      <td>4380.000000</td>\n",
       "    </tr>\n",
       "    <tr>\n",
       "      <th>50%</th>\n",
       "      <td>3.000000</td>\n",
       "      <td>9.030000e+05</td>\n",
       "      <td>9.200000</td>\n",
       "      <td>3084.000000</td>\n",
       "      <td>3.000000</td>\n",
       "      <td>1.000000</td>\n",
       "      <td>2.000000</td>\n",
       "      <td>440.000000</td>\n",
       "      <td>126.000000</td>\n",
       "      <td>1970.000000</td>\n",
       "      <td>-37.802355</td>\n",
       "      <td>145.000100</td>\n",
       "      <td>6555.000000</td>\n",
       "    </tr>\n",
       "    <tr>\n",
       "      <th>75%</th>\n",
       "      <td>3.000000</td>\n",
       "      <td>1.330000e+06</td>\n",
       "      <td>13.000000</td>\n",
       "      <td>3148.000000</td>\n",
       "      <td>3.000000</td>\n",
       "      <td>2.000000</td>\n",
       "      <td>2.000000</td>\n",
       "      <td>651.000000</td>\n",
       "      <td>174.000000</td>\n",
       "      <td>1999.000000</td>\n",
       "      <td>-37.756400</td>\n",
       "      <td>145.058305</td>\n",
       "      <td>10331.000000</td>\n",
       "    </tr>\n",
       "    <tr>\n",
       "      <th>max</th>\n",
       "      <td>10.000000</td>\n",
       "      <td>9.000000e+06</td>\n",
       "      <td>48.100000</td>\n",
       "      <td>3977.000000</td>\n",
       "      <td>20.000000</td>\n",
       "      <td>8.000000</td>\n",
       "      <td>10.000000</td>\n",
       "      <td>433014.000000</td>\n",
       "      <td>44515.000000</td>\n",
       "      <td>2018.000000</td>\n",
       "      <td>-37.408530</td>\n",
       "      <td>145.526350</td>\n",
       "      <td>21650.000000</td>\n",
       "    </tr>\n",
       "  </tbody>\n",
       "</table>\n",
       "</div>"
      ],
      "text/plain": [
       "              Rooms         Price      Distance      Postcode      Bedroom2  \\\n",
       "count  13580.000000  1.358000e+04  13580.000000  13580.000000  13580.000000   \n",
       "mean       2.937997  1.075684e+06     10.137776   3105.301915      2.914728   \n",
       "std        0.955748  6.393107e+05      5.868725     90.676964      0.965921   \n",
       "min        1.000000  8.500000e+04      0.000000   3000.000000      0.000000   \n",
       "25%        2.000000  6.500000e+05      6.100000   3044.000000      2.000000   \n",
       "50%        3.000000  9.030000e+05      9.200000   3084.000000      3.000000   \n",
       "75%        3.000000  1.330000e+06     13.000000   3148.000000      3.000000   \n",
       "max       10.000000  9.000000e+06     48.100000   3977.000000     20.000000   \n",
       "\n",
       "           Bathroom           Car       Landsize  BuildingArea    YearBuilt  \\\n",
       "count  13580.000000  13518.000000   13580.000000   7130.000000  8205.000000   \n",
       "mean       1.534242      1.610075     558.416127    151.967650  1964.684217   \n",
       "std        0.691712      0.962634    3990.669241    541.014538    37.273762   \n",
       "min        0.000000      0.000000       0.000000      0.000000  1196.000000   \n",
       "25%        1.000000      1.000000     177.000000     93.000000  1940.000000   \n",
       "50%        1.000000      2.000000     440.000000    126.000000  1970.000000   \n",
       "75%        2.000000      2.000000     651.000000    174.000000  1999.000000   \n",
       "max        8.000000     10.000000  433014.000000  44515.000000  2018.000000   \n",
       "\n",
       "          Lattitude    Longtitude  Propertycount  \n",
       "count  13580.000000  13580.000000   13580.000000  \n",
       "mean     -37.809203    144.995216    7454.417378  \n",
       "std        0.079260      0.103916    4378.581772  \n",
       "min      -38.182550    144.431810     249.000000  \n",
       "25%      -37.856822    144.929600    4380.000000  \n",
       "50%      -37.802355    145.000100    6555.000000  \n",
       "75%      -37.756400    145.058305   10331.000000  \n",
       "max      -37.408530    145.526350   21650.000000  "
      ]
     },
     "execution_count": 3,
     "metadata": {},
     "output_type": "execute_result"
    }
   ],
   "source": [
    "melbourne_data.describe()"
   ]
  },
  {
   "cell_type": "markdown",
   "id": "44b808b2-892e-4d96-9a3d-5e2d0c0e8056",
   "metadata": {},
   "source": [
    "## Su primer modelo de aprendizaje automático\n",
    "\n",
    "### Selección de datos para la modelización\n",
    "Su conjunto de datos tiene demasiadas variables como para poder entenderlas, o incluso para imprimirlas bien. ¿Cómo puede reducir esta abrumadora cantidad de datos a algo que pueda entender?\n",
    "\n",
    "Empezaremos eligiendo algunas variables utilizando nuestra intuición. En cursos posteriores se mostrarán técnicas estadísticas para priorizar automáticamente las variables.\n",
    "\n",
    "Para elegir las variables/columnas, necesitaremos ver una lista de todas las columnas del conjunto de datos. Eso se hace con la propiedad `columns` del DataFrame:"
   ]
  },
  {
   "cell_type": "code",
   "execution_count": 18,
   "id": "b8c9f2aa-9a96-463e-a52b-f015f3755ad5",
   "metadata": {},
   "outputs": [
    {
     "data": {
      "text/plain": [
       "Index(['Suburb', 'Address', 'Rooms', 'Type', 'Price', 'Method', 'SellerG',\n",
       "       'Date', 'Distance', 'Postcode', 'Bedroom2', 'Bathroom', 'Car',\n",
       "       'Landsize', 'BuildingArea', 'YearBuilt', 'CouncilArea', 'Lattitude',\n",
       "       'Longtitude', 'Regionname', 'Propertycount'],\n",
       "      dtype='object')"
      ]
     },
     "execution_count": 18,
     "metadata": {},
     "output_type": "execute_result"
    }
   ],
   "source": [
    "melbourne_data.columns"
   ]
  },
  {
   "cell_type": "markdown",
   "id": "3cee7dac-5d70-46e7-88f3-1a8555175990",
   "metadata": {},
   "source": [
    "Los datos de Melbourne tienen algunos valores perdidos (algunas casas para las que no se registraron algunas variables). Así que tomaremos la opción más simple por ahora, y eliminaremos las casas que tienen valores *nan* en nuestros datos."
   ]
  },
  {
   "cell_type": "code",
   "execution_count": 19,
   "id": "bc9d0582-8d87-4e39-892a-50db9e2318ca",
   "metadata": {},
   "outputs": [],
   "source": [
    "melbourne_data = melbourne_data.dropna(axis=0)"
   ]
  },
  {
   "cell_type": "markdown",
   "id": "0e28bdae-7ce9-4281-a94e-ba56a5002612",
   "metadata": {},
   "source": [
    "### Selección del objetivo de predicción\n",
    "\n",
    "Puede extraer una variable con anotación de puntos. Esta única columna se almacena en una Serie, que a grandes rasgos es como un DataFrame con una sola columna de datos.\n",
    "\n",
    "Utilizaremos la notación de puntos para seleccionar la columna que queremos predecir, que se llama objetivo de predicción. Por convención, el objetivo de predicción se llama y. Así que el código que necesitamos para guardar los precios de la vivienda en los datos de Melbourne es el siguiente:"
   ]
  },
  {
   "cell_type": "code",
   "execution_count": 21,
   "id": "1d7c9958-fa10-4190-91d6-1241c77f2a3c",
   "metadata": {},
   "outputs": [],
   "source": [
    "y = melbourne_data.Price"
   ]
  },
  {
   "cell_type": "markdown",
   "id": "29f4cbeb-c97d-4137-ba33-18bf1c0274f7",
   "metadata": {},
   "source": [
    "### Elección de las \"características\"\n",
    "\n",
    "Las columnas que se introducen en nuestro modelo (y que luego se utilizan para hacer predicciones) se denominan \"características\". En nuestro caso, serían las columnas utilizadas para determinar el precio de la vivienda. A veces, utilizará como características todas las columnas excepto el objetivo. Otras veces será mejor utilizar menos características.\n",
    "\n",
    "Por ahora, construiremos un modelo con sólo unas pocas características. Más adelante verá cómo iterar y comparar modelos construidos con diferentes características.\n",
    "\n",
    "Seleccionamos múltiples características proporcionando una lista de nombres de columnas entre paréntesis. Cada elemento de esa lista debe ser una cadena (con comillas).\n",
    "\n",
    "Aquí hay un ejemplo:"
   ]
  },
  {
   "cell_type": "code",
   "execution_count": 37,
   "id": "e1b97882-03cd-41bd-a44d-36cad2691b56",
   "metadata": {},
   "outputs": [],
   "source": [
    "melbourne_features = ['Rooms', 'Bathroom', 'Landsize', 'BuildingArea', \n",
    "                        'YearBuilt', 'Lattitude', 'Longtitude']\n",
    "X = melbourne_data[melbourne_features]"
   ]
  },
  {
   "cell_type": "markdown",
   "id": "3f897bd3-b29d-410d-9d17-35977c458935",
   "metadata": {},
   "source": [
    "Por convención, estos datos se denominan **X**"
   ]
  },
  {
   "cell_type": "markdown",
   "id": "1015ff75-1b7a-4227-b33c-68a716f27683",
   "metadata": {},
   "source": [
    "## Creación de su modelo\n",
    "\n",
    "Usted utilizará la biblioteca *scikit-learn* para crear sus modelos. Al codificar, esta biblioteca se escribe como *sklearn*, como verás en el código de ejemplo. *Scikit-learn* es fácilmente la biblioteca más popular para modelar los tipos de datos típicamente almacenados en **DataFrames**.\n",
    "\n",
    "Los pasos para construir y utilizar un modelo son\n",
    "\n",
    "* **Definir**: ¿Qué tipo de modelo será? ¿Un árbol de decisión? ¿Algún otro tipo de modelo? También se especifican algunos otros parámetros del tipo de modelo.\n",
    "* **Ajustar**: Capturar los patrones a partir de los datos proporcionados. Este es el corazón del modelado.\n",
    "* **Predecir**: Justo lo que parece\n",
    "* **Evaluar**: Determinar la precisión de las predicciones del modelo.\n",
    "\n",
    "Este es un ejemplo de la definición de un modelo de árbol de decisión con scikit-learn y su ajuste con las características y la variable objetivo."
   ]
  },
  {
   "cell_type": "code",
   "execution_count": 38,
   "id": "e2e37a3f-63dc-457c-83a0-b1277a77ac4e",
   "metadata": {},
   "outputs": [
    {
     "data": {
      "text/plain": [
       "DecisionTreeRegressor(random_state=1)"
      ]
     },
     "execution_count": 38,
     "metadata": {},
     "output_type": "execute_result"
    }
   ],
   "source": [
    "from sklearn.tree import DecisionTreeRegressor\n",
    "\n",
    "# Define model. Specify a number for random_state to ensure same results each run\n",
    "melbourne_model = DecisionTreeRegressor(random_state=1)\n",
    "\n",
    "# Fit model\n",
    "melbourne_model.fit(X, y)"
   ]
  },
  {
   "cell_type": "markdown",
   "id": "e519c025-86e1-4bfd-8ec9-a1a1edae7f00",
   "metadata": {},
   "source": [
    "Muchos modelos de aprendizaje automático permiten cierta aleatoriedad en el entrenamiento del modelo. Especificar un número para random_state garantiza que se obtengan los mismos resultados en cada ejecución. Esto se considera una buena práctica. Puedes usar cualquier número, y la calidad del modelo no dependerá significativamente del valor que elijas.\n",
    "\n",
    "Ahora tenemos un modelo ajustado que podemos utilizar para hacer predicciones.\n",
    "\n",
    "En la práctica, querremos hacer predicciones para las nuevas viviendas que salgan al mercado y no para las viviendas de las que ya tenemos precios. Pero haremos predicciones para las primeras filas de los datos de entrenamiento para ver cómo funciona la función predecir.\n",
    "\n"
   ]
  },
  {
   "cell_type": "code",
   "execution_count": 39,
   "id": "6095cc46-1a6b-4450-8764-4873c5b4e607",
   "metadata": {},
   "outputs": [
    {
     "name": "stdout",
     "output_type": "stream",
     "text": [
      "Making predictions for the following 5 houses:\n",
      "   Rooms  Bathroom  Landsize  BuildingArea  YearBuilt  Lattitude  Longtitude\n",
      "1      2       1.0     156.0          79.0     1900.0   -37.8079    144.9934\n",
      "2      3       2.0     134.0         150.0     1900.0   -37.8093    144.9944\n",
      "4      4       1.0     120.0         142.0     2014.0   -37.8072    144.9941\n",
      "6      3       2.0     245.0         210.0     1910.0   -37.8024    144.9993\n",
      "7      2       1.0     256.0         107.0     1890.0   -37.8060    144.9954\n",
      "The predictions are\n",
      "[1035000. 1465000. 1600000. 1876000. 1636000.]\n"
     ]
    }
   ],
   "source": [
    "print(\"Making predictions for the following 5 houses:\")\n",
    "print(X.head())\n",
    "print(\"The predictions are\")\n",
    "print(melbourne_model.predict(X.head()))"
   ]
  },
  {
   "cell_type": "markdown",
   "id": "62ed543d-751e-464b-ad5a-d7d5b29d6750",
   "metadata": {},
   "source": [
    "## Validación del modelo\n",
    "\n",
    "Ha construido un modelo. Pero, ¿es bueno?\n",
    "\n",
    "En esta lección, aprenderá a utilizar la validación de modelos para medir la calidad de su modelo. Medir la calidad del modelo es la clave para mejorar iterativamente sus modelos.\n",
    "\n",
    "### Qué es la validación de modelos\n",
    "\n",
    "Usted querrá evaluar casi todos los modelos que construya. En la mayoría de las aplicaciones (aunque no en todas), la medida relevante de la calidad del modelo es la precisión predictiva. En otras palabras, si las predicciones del modelo se acercan a lo que realmente ocurre.\n",
    "\n",
    "Mucha gente comete un gran error al medir la precisión predictiva. Hacen predicciones con sus datos de entrenamiento y comparan esas predicciones con los valores objetivo de los datos de entrenamiento. Verás el problema de este enfoque y cómo resolverlo en un momento, pero primero pensemos en cómo lo haríamos.\n",
    "\n",
    "Primero habría que resumir la calidad del modelo de forma comprensible. Si se comparan los valores de las viviendas predichos y los reales de 10.000 casas, es probable que se encuentre una mezcla de buenas y malas predicciones. Mirar una lista de 10.000 valores predichos y reales no tendría sentido. Necesitamos resumir esto en una sola métrica.\n",
    "\n",
    "Hay muchas métricas para resumir la calidad del modelo, pero empezaremos con una llamada **Error Absoluto Medio** (también llamada **MAE**). Vamos a desglosar esta métrica empezando por la última palabra, error.\n",
    "\n",
    "El error de predicción para cada casa es:\n",
    "\n",
    "`error=actual−predicted`\n",
    "\n",
    "Así, si una casa cuesta 150.000 dólares y usted predijo que costaría 100.000 dólares, el error es de 50.000 dólares.\n",
    "\n",
    "Con la métrica MAE, tomamos el valor absoluto de cada error. Esto convierte cada error en un número positivo. A continuación, tomamos la media de esos errores absolutos. Esta es nuestra medida de la calidad del modelo. En términos sencillos, puede decirse que\n",
    "\n",
    "Por término medio, nuestras predicciones tienen un error de aproximadamente X."
   ]
  },
  {
   "cell_type": "code",
   "execution_count": 40,
   "id": "013ea50e-7f9a-477a-9ec8-f2e1530ecc28",
   "metadata": {},
   "outputs": [
    {
     "data": {
      "text/plain": [
       "434.71594577146544"
      ]
     },
     "execution_count": 40,
     "metadata": {},
     "output_type": "execute_result"
    }
   ],
   "source": [
    "from sklearn.metrics import mean_absolute_error\n",
    "\n",
    "predicted_home_prices = melbourne_model.predict(X)\n",
    "mean_absolute_error(y, predicted_home_prices)"
   ]
  },
  {
   "cell_type": "markdown",
   "id": "7f18db7b-1b93-4226-ba14-78064dc7c727",
   "metadata": {},
   "source": [
    "### El problema con In-Sample-Scores\n",
    "\n",
    "La medida que acabamos de calcular puede denominarse puntuación \"dentro de la muestra\". Hemos utilizado una única \"muestra\" de casas tanto para construir el modelo como para evaluarlo. He aquí por qué esto es incorrecto.\n",
    "\n",
    "Imagine que, en el gran mercado inmobiliario, el color de la puerta no está relacionado con el precio de la vivienda.\n",
    "\n",
    "Sin embargo, en la muestra de datos que ha utilizado para construir el modelo, todas las casas con puertas verdes eran muy caras. El trabajo del modelo consiste en encontrar patrones que predigan los precios de las viviendas, por lo que verá este patrón y siempre predecirá precios altos para las viviendas con puertas verdes.\n",
    "\n",
    "Dado que este patrón se derivó de los datos de entrenamiento, el modelo parecerá preciso en los datos de entrenamiento.\n",
    "\n",
    "Pero si este patrón no se mantiene cuando el modelo ve nuevos datos, el modelo sería muy inexacto cuando se utilice en la práctica.\n",
    "\n",
    "Dado que el valor práctico de los modelos proviene de la realización de predicciones sobre nuevos datos, medimos el rendimiento sobre datos que no se utilizaron para construir el modelo. La forma más sencilla de hacerlo es excluir algunos datos del proceso de construcción del modelo y, a continuación, utilizarlos para probar la precisión del modelo con datos que no haya visto antes. Estos datos se denominan datos de validación.\n",
    "\n",
    "La biblioteca scikit-learn tiene una función train_test_split para dividir los datos en dos partes. Utilizaremos algunos de esos datos como datos de entrenamiento para ajustar el modelo, y utilizaremos los otros datos como datos de validación para calcular el error medio_absoluto."
   ]
  },
  {
   "cell_type": "code",
   "execution_count": 41,
   "id": "8dec0caa-95f3-4e81-a7d9-d7e6a452f0a7",
   "metadata": {},
   "outputs": [
    {
     "name": "stdout",
     "output_type": "stream",
     "text": [
      "266429.2775984506\n"
     ]
    }
   ],
   "source": [
    "from sklearn.model_selection import train_test_split\n",
    "\n",
    "# split data into training and validation data, for both features and target\n",
    "# The split is based on a random number generator. Supplying a numeric value to\n",
    "# the random_state argument guarantees we get the same split every time we\n",
    "# run this script.\n",
    "train_X, val_X, train_y, val_y = train_test_split(X, y, random_state = 0)\n",
    "# Define model\n",
    "melbourne_model = DecisionTreeRegressor()\n",
    "# Fit model\n",
    "melbourne_model.fit(train_X, train_y)\n",
    "\n",
    "# get predicted prices on validation data\n",
    "val_predictions = melbourne_model.predict(val_X)\n",
    "print(mean_absolute_error(val_y, val_predictions))"
   ]
  },
  {
   "cell_type": "markdown",
   "id": "9eb3fd19-3f61-4a4b-937b-b4689bd0851d",
   "metadata": {},
   "source": [
    "Su error absoluto medio para los datos dentro de la muestra era de unos 500 dólares. Fuera de la muestra es de más de 250.000 dólares!.\n",
    "\n",
    "Esta es la diferencia entre un modelo que es casi exactamente correcto, y uno que es inutilizable para la mayoría de los propósitos prácticos. Como punto de referencia, el valor medio de la vivienda en los datos de validación es de 1,1 millones de dólares. Por tanto, el error en los nuevos datos es de aproximadamente una cuarta parte del valor medio de la vivienda.\n",
    "\n",
    "Hay muchas formas de mejorar este modelo, como experimentar para encontrar mejores características o diferentes tipos de modelos."
   ]
  },
  {
   "cell_type": "markdown",
   "id": "0246a752-995e-4a54-bdb1-865e3bdedcac",
   "metadata": {},
   "source": [
    "## Subajuste y sobreajuste\n",
    "\n",
    "### Experimentar con diferentes modelos\n",
    "\n",
    "Ahora que dispone de una forma fiable de medir la precisión del modelo, puede experimentar con modelos alternativos y ver cuál ofrece las mejores predicciones. Pero, ¿qué alternativas tiene para los modelos?\n",
    "\n",
    "Puede ver en la documentación de scikit-learn que el modelo de árbol de decisión tiene muchas opciones (más de las que querrá o necesitará durante mucho tiempo). Las opciones más importantes determinan la profundidad del árbol. Recordemos de la primera lección de este curso que la profundidad de un árbol es una medida de cuántas divisiones hace antes de llegar a una predicción. Este es un árbol relativamente poco profundo\n",
    "\n",
    "![img4](http://i.imgur.com/R3ywQsR.png)\n",
    "\n",
    "En la práctica, no es raro que un árbol tenga 10 divisiones entre el nivel superior (todas las casas) y una hoja. A medida que el árbol se hace más profundo, el conjunto de datos se divide en hojas con menos casas. Si un árbol sólo tiene 1 división, divide los datos en 2 grupos. Si cada grupo se divide de nuevo, obtendríamos 4 grupos de casas. Si volvemos a dividir cada uno de ellos, obtendríamos 8 grupos. Si seguimos duplicando el número de grupos añadiendo más divisiones en cada nivel, tendremos 210 grupos de casas cuando lleguemos al décimo nivel. Eso son 1024 hojas.\n",
    "\n",
    "Cuando dividimos las casas entre muchas hojas, también tenemos menos casas en cada hoja. Las hojas con muy pocas casas harán predicciones que se acercan bastante a los valores reales de esas casas, pero pueden hacer predicciones muy poco fiables para los nuevos datos (porque cada predicción se basa en sólo unas pocas casas).\n",
    "\n",
    "Se trata de un fenómeno llamado sobreajuste, en el que un modelo se ajusta a los datos de entrenamiento casi a la perfección, pero lo hace mal en la validación y en otros datos nuevos. Por otro lado, si nuestro árbol es muy superficial, no divide las casas en grupos muy distintos.\n",
    "\n",
    "En un extremo, si un árbol divide las casas en sólo 2 o 4, cada grupo sigue teniendo una gran variedad de casas. Las predicciones resultantes pueden estar muy lejos de la mayoría de las casas, incluso en los datos de entrenamiento (y también serán malas en la validación por la misma razón). Cuando un modelo no capta distinciones y patrones importantes en los datos, por lo que su rendimiento es deficiente incluso en los datos de entrenamiento, esto se denomina infraadaptación.\n",
    "\n",
    "Dado que nos interesa la precisión en los nuevos datos, que estimamos a partir de nuestros datos de validación, queremos encontrar el punto óptimo entre el infraajuste y el sobreajuste. Visualmente, queremos el punto más bajo de la curva de validación (roja) en la figura siguiente.\n",
    "\n",
    "<img src=\"http://i.imgur.com/AXSEOfI.png\" width=\"500\"/>"
   ]
  },
  {
   "cell_type": "markdown",
   "id": "24a4d532-eb3d-4539-9a2b-df860f6e1a3d",
   "metadata": {},
   "source": [
    "### Ejemplo\n",
    "\n",
    "Hay algunas alternativas para controlar la profundidad del árbol, y muchas permiten que algunas rutas a través del árbol tengan mayor profundidad que otras. Pero el argumento max_leaf_nodes proporciona una forma muy sensata de controlar el sobreajuste frente al infraajuste. Cuantas más hojas permitamos al modelo, más nos moveremos de la zona de infraajuste en el gráfico anterior a la zona de sobreajuste.\n",
    "\n",
    "Podemos utilizar una función de utilidad para ayudar a comparar las puntuaciones MAE de diferentes valores para max_leaf_nodes:"
   ]
  },
  {
   "cell_type": "code",
   "execution_count": 42,
   "id": "8aca1ba8-ba5b-4a5d-8946-d5017e7e7a97",
   "metadata": {},
   "outputs": [],
   "source": [
    "def get_mae(max_leaf_nodes, train_X, val_X, train_y, val_y):\n",
    "    model = DecisionTreeRegressor(max_leaf_nodes=max_leaf_nodes, random_state=0)\n",
    "    model.fit(train_X, train_y)\n",
    "    preds_val = model.predict(val_X)\n",
    "    mae = mean_absolute_error(val_y, preds_val)\n",
    "    return(mae)"
   ]
  },
  {
   "cell_type": "code",
   "execution_count": 43,
   "id": "7f4c8a2b-6b7b-4d8f-a33a-3d5dace91a07",
   "metadata": {},
   "outputs": [
    {
     "name": "stdout",
     "output_type": "stream",
     "text": [
      "Max leaf nodes: 5  \t\t Mean Absolute Error:  347380\n",
      "Max leaf nodes: 50  \t\t Mean Absolute Error:  258171\n",
      "Max leaf nodes: 500  \t\t Mean Absolute Error:  243495\n",
      "Max leaf nodes: 5000  \t\t Mean Absolute Error:  254983\n"
     ]
    }
   ],
   "source": [
    "# compare MAE with differing values of max_leaf_nodes\n",
    "for max_leaf_nodes in [5, 50, 500, 5000]:\n",
    "    my_mae = get_mae(max_leaf_nodes, train_X, val_X, train_y, val_y)\n",
    "    print(\"Max leaf nodes: %d  \\t\\t Mean Absolute Error:  %d\" %(max_leaf_nodes, my_mae))"
   ]
  },
  {
   "cell_type": "markdown",
   "id": "6a4ca3f1-2a58-4d82-9324-e553ee45b853",
   "metadata": {},
   "source": [
    "*De las opciones enumeradas, 500 es el número óptimo de hojas.*\n",
    "\n",
    "### Conclusión\n",
    "\n",
    "Asi que los modelos pueden sufrir de:\n",
    "\n",
    "* Sobreajuste: captura de patrones espurios que no se repetirán en el futuro, lo que lleva a predicciones menos precisas, o\n",
    "* Infraajuste: no capturar patrones relevantes, lo que también conduce a predicciones menos precisas.\n",
    "\n",
    "Los datos de validación, que no se utilizan en el entrenamiento del modelo, sirven para medir la precisión de un modelo candidato. Esto nos permite probar muchos modelos candidatos y quedarnos con el mejor."
   ]
  },
  {
   "cell_type": "code",
   "execution_count": null,
   "id": "fe5e096d-412f-456d-93bf-1ad24018987b",
   "metadata": {},
   "outputs": [],
   "source": []
  }
 ],
 "metadata": {
  "kernelspec": {
   "display_name": "default:Python",
   "language": "python",
   "name": "conda-env-default-py"
  },
  "language_info": {
   "codemirror_mode": {
    "name": "ipython",
    "version": 3
   },
   "file_extension": ".py",
   "mimetype": "text/x-python",
   "name": "python",
   "nbconvert_exporter": "python",
   "pygments_lexer": "ipython3",
   "version": "3.9.10"
  }
 },
 "nbformat": 4,
 "nbformat_minor": 5
}
