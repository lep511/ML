{
 "cells": [
  {
   "cell_type": "markdown",
   "metadata": {},
   "source": [
    "# California Housing"
   ]
  },
  {
   "cell_type": "code",
   "execution_count": 4,
   "metadata": {
    "id": "SzR9e6VnSiWU"
   },
   "outputs": [],
   "source": [
    "import pandas as pd"
   ]
  },
  {
   "cell_type": "code",
   "execution_count": 5,
   "metadata": {
    "id": "3Us_5OShSp4S"
   },
   "outputs": [],
   "source": [
    "test = pd.read_csv(\"california_housing_test.csv\")\n",
    "train = pd.read_csv(\"california_housing_train.csv\")"
   ]
  },
  {
   "cell_type": "code",
   "execution_count": 6,
   "metadata": {
    "colab": {
     "base_uri": "https://localhost:8080/"
    },
    "id": "vHEXLwCtTu6p",
    "outputId": "0e550008-87c3-45bd-d470-36015455517c"
   },
   "outputs": [
    {
     "data": {
      "text/plain": [
       "Index(['longitude', 'latitude', 'housing_median_age', 'total_rooms',\n",
       "       'total_bedrooms', 'population', 'households', 'median_income',\n",
       "       'median_house_value'],\n",
       "      dtype='object')"
      ]
     },
     "execution_count": 6,
     "metadata": {},
     "output_type": "execute_result"
    }
   ],
   "source": [
    "train.columns"
   ]
  },
  {
   "cell_type": "code",
   "execution_count": 7,
   "metadata": {
    "id": "ATzG7_fHT6Ct"
   },
   "outputs": [],
   "source": [
    "california_features = ['longitude', 'latitude', 'housing_median_age', 'total_rooms',\n",
    "       'total_bedrooms', 'population', 'households', 'median_income']\n",
    "X = train[california_features]\n",
    "y = train[\"median_house_value\"]"
   ]
  },
  {
   "cell_type": "code",
   "execution_count": 8,
   "metadata": {
    "colab": {
     "base_uri": "https://localhost:8080/"
    },
    "id": "gwUMl6ZoUe5m",
    "outputId": "9bd5b51d-4696-4fad-d405-8bd431cdffc0"
   },
   "outputs": [
    {
     "data": {
      "text/plain": [
       "DecisionTreeRegressor(random_state=1)"
      ]
     },
     "execution_count": 8,
     "metadata": {},
     "output_type": "execute_result"
    }
   ],
   "source": [
    "from sklearn.tree import DecisionTreeRegressor\n",
    "\n",
    "# Define model. Specify a number for random_state to ensure same results each run\n",
    "model = DecisionTreeRegressor(random_state=1)\n",
    "\n",
    "# Fit model\n",
    "model.fit(X, y)"
   ]
  },
  {
   "cell_type": "code",
   "execution_count": 9,
   "metadata": {
    "id": "oOEoNTKmUyZT"
   },
   "outputs": [],
   "source": [
    "X_test = test[california_features]\n",
    "y_test = test[\"median_house_value\"]"
   ]
  },
  {
   "cell_type": "code",
   "execution_count": 10,
   "metadata": {
    "colab": {
     "base_uri": "https://localhost:8080/"
    },
    "id": "huNPFDQ_Vnt-",
    "outputId": "678dd5bb-cbf1-4a95-9670-fba0e919aa08"
   },
   "outputs": [
    {
     "name": "stdout",
     "output_type": "stream",
     "text": [
      "Mean Absolute Error: 42,674\n"
     ]
    }
   ],
   "source": [
    "from sklearn.metrics import mean_absolute_error\n",
    "\n",
    "predicted_home_prices = model.predict(X_test)\n",
    "mae = mean_absolute_error(y_test, predicted_home_prices)\n",
    "print(\"Mean Absolute Error: {:,.0f}\".format(mae))"
   ]
  },
  {
   "cell_type": "markdown",
   "metadata": {
    "id": "wlZQP2LgWkgW"
   },
   "source": [
    "## RandomForestRegressor"
   ]
  },
  {
   "cell_type": "code",
   "execution_count": 11,
   "metadata": {
    "colab": {
     "base_uri": "https://localhost:8080/"
    },
    "id": "Vqqj9fd4V5Cw",
    "outputId": "3fe1cfd2-1743-4a96-b5fa-287ad18561aa"
   },
   "outputs": [
    {
     "data": {
      "text/plain": [
       "RandomForestRegressor(max_leaf_nodes=100, random_state=1)"
      ]
     },
     "execution_count": 11,
     "metadata": {},
     "output_type": "execute_result"
    }
   ],
   "source": [
    "from sklearn.ensemble import RandomForestRegressor\n",
    "\n",
    "# Define the model. Set random_state to 1\n",
    "rf_model = RandomForestRegressor(max_leaf_nodes=100, random_state=1)\n",
    "\n",
    "# fit your model\n",
    "rf_model.fit(X, y)"
   ]
  },
  {
   "cell_type": "code",
   "execution_count": 12,
   "metadata": {
    "colab": {
     "base_uri": "https://localhost:8080/"
    },
    "id": "-z6_aMheW-eI",
    "outputId": "be2c7dbd-42a2-40cf-bb12-81015bfb8e2b"
   },
   "outputs": [
    {
     "name": "stdout",
     "output_type": "stream",
     "text": [
      "Mean Absolute Error: 39,740\n"
     ]
    }
   ],
   "source": [
    "predicted_home_prices = rf_model.predict(X_test)\n",
    "mae = mean_absolute_error(y_test, predicted_home_prices)\n",
    "print(\"Mean Absolute Error: {:,.0f}\".format(mae))"
   ]
  },
  {
   "cell_type": "code",
   "execution_count": 13,
   "metadata": {
    "colab": {
     "base_uri": "https://localhost:8080/"
    },
    "id": "PYEdIq7pZSZT",
    "outputId": "22c32970-be4f-48c9-ce5b-cc32fc7e49c6"
   },
   "outputs": [
    {
     "name": "stdout",
     "output_type": "stream",
     "text": [
      "0.7462967881330734\n"
     ]
    }
   ],
   "source": [
    "print(rf_model.score(X_test,y_test))"
   ]
  },
  {
   "cell_type": "code",
   "execution_count": 14,
   "metadata": {
    "colab": {
     "base_uri": "https://localhost:8080/"
    },
    "id": "e1SPsq0vZtP0",
    "outputId": "2f2b6f16-93e2-4933-ab29-96cd9029abc0"
   },
   "outputs": [
    {
     "name": "stdout",
     "output_type": "stream",
     "text": [
      "Mean Absolute Error: 31,930\n",
      "0.8114939545844662\n"
     ]
    }
   ],
   "source": [
    "rf_model = RandomForestRegressor(n_estimators=500)\n",
    "rf_model.fit(X, y)\n",
    "predicted_home_prices = rf_model.predict(X_test)\n",
    "mae = mean_absolute_error(y_test, predicted_home_prices)\n",
    "print(\"Mean Absolute Error: {:,.0f}\".format(mae))\n",
    "print(rf_model.score(X_test,y_test))\n"
   ]
  },
  {
   "cell_type": "code",
   "execution_count": 13,
   "metadata": {
    "id": "K7kpJhxDXRAj"
   },
   "outputs": [],
   "source": [
    "import seaborn as sns\n",
    "import matplotlib.pyplot as plt"
   ]
  },
  {
   "cell_type": "code",
   "execution_count": null,
   "metadata": {
    "colab": {
     "base_uri": "https://localhost:8080/",
     "height": 365
    },
    "id": "35L_lzsYYGam",
    "outputId": "e833746e-8ec8-42db-a4c1-33a0a56e531d"
   },
   "outputs": [
    {
     "data": {
      "image/png": "[encoded data removed]",
      "text/plain": [
       "<Figure size 432x288 with 2 Axes>"
      ]
     },
     "metadata": {
      "needs_background": "light"
     },
     "output_type": "display_data"
    }
   ],
   "source": [
    "ax = sns.heatmap(train.corr(), cmap=\"YlGnBu\")"
   ]
  },
  {
   "cell_type": "code",
   "execution_count": 24,
   "metadata": {},
   "outputs": [],
   "source": [
    "run[\"graphs/heatmap\"].upload(ax.figure)"
   ]
  },
  {
   "cell_type": "code",
   "execution_count": 26,
   "metadata": {},
   "outputs": [],
   "source": [
    "run[\"train_dataset\"].track_files(\"california_housing_train.csv\")"
   ]
  },
  {
   "cell_type": "code",
   "execution_count": 30,
   "metadata": {},
   "outputs": [],
   "source": [
    "run[\"estimator/parameters\"] = npt_utils.get_estimator_params(rf_model)"
   ]
  },
  {
   "cell_type": "code",
   "execution_count": 44,
   "metadata": {},
   "outputs": [],
   "source": [
    "import pickle\n",
    "s = pickle.dumps(rf_model)\n",
    "clf2 = pickle.loads(s)"
   ]
  },
  {
   "cell_type": "code",
   "execution_count": 45,
   "metadata": {},
   "outputs": [],
   "source": [
    "run[\"estimator/pickled-model\"] = npt_utils.get_pickled_model(clf2)"
   ]
  },
  {
   "cell_type": "code",
   "execution_count": 51,
   "metadata": {},
   "outputs": [],
   "source": [
    "#model_version[\"model\"].upload(clf2)\n",
    "model_version[\"validation/dataset\"].track_files(\"california_housing_test.csv\")\n",
    "model_version[\"validation/acc\"] = 0.87\n",
    "model_version.change_stage(\"staging\")"
   ]
  },
  {
   "cell_type": "code",
   "execution_count": null,
   "metadata": {},
   "outputs": [],
   "source": []
  },
  {
   "cell_type": "code",
   "execution_count": 52,
   "metadata": {},
   "outputs": [
    {
     "name": "stdout",
     "output_type": "stream",
     "text": [
      "Shutting down background jobs, please wait a moment...\n",
      "Done!\n"
     ]
    },
    {
     "name": "stderr",
     "output_type": "stream",
     "text": [
      "Waiting for the remaining 1 operations to synchronize with Neptune. Do not kill this process.\n"
     ]
    },
    {
     "name": "stdout",
     "output_type": "stream",
     "text": [
      "All 1 operations synced, thanks for waiting!\n"
     ]
    }
   ],
   "source": [
    "run.stop()"
   ]
  },
  {
   "cell_type": "code",
   "execution_count": 16,
   "metadata": {},
   "outputs": [
    {
     "name": "stdout",
     "output_type": "stream",
     "text": [
      "https://app.neptune.ai/lep511/colab-test-run/e/COL-26\n",
      "Remember to stop your run once you’ve finished logging your metadata (https://docs.neptune.ai/api-reference/run#.stop). It will be stopped automatically only when the notebook kernel/interactive console is terminated.\n"
     ]
    }
   ],
   "source": [
    "from sklearn.ensemble import GradientBoostingClassifier\n",
    "from sklearn.model_selection import train_test_split\n",
    "\n",
    "import neptune.new as neptune\n",
    "import neptune.new.integrations.sklearn as npt_utils\n",
    "\n",
    "run = neptune.init(\n",
    "    project=\"lep511/colab-test-run\",\n",
    "    api_token=\"eyJhcGlfYWRkcmVzcyI6Imh0dHBzOi8vYXBwLm5lcHR1bmUuYWkiLCJhcGlfdXJsIjoiaHR0cHM6Ly9hcHAubmVwdHVuZS5haSIsImFwaV9rZXkiOiJkOTAwNTEyMS05MTEwLTQzYzYtYmYwZi1mMGVmNzA3MjI3YjkifQ==\",\n",
    "    name=\"regression-example\",\n",
    "    tags=[\"RandomForestRegressor\", \"regression\"],\n",
    ")"
   ]
  },
  {
   "cell_type": "code",
   "execution_count": 17,
   "metadata": {},
   "outputs": [],
   "source": [
    "parameters = {\n",
    "    \"n_estimators\": 90,\n",
    "    \"learning_rate\": 0.07,\n",
    "    \"min_samples_split\": 2,\n",
    "    \"min_samples_leaf\": 5,\n",
    "}\n",
    "run[\"parameters\"] = parameters"
   ]
  },
  {
   "cell_type": "code",
   "execution_count": 18,
   "metadata": {},
   "outputs": [
    {
     "name": "stderr",
     "output_type": "stream",
     "text": [
      "findfont: Font family ['sans-serif'] not found. Falling back to DejaVu Sans.\n",
      "findfont: Generic family 'sans-serif' not found because none of the following families were found: Arial, Liberation Sans, Bitstream Vera Sans, sans-serif\n",
      "findfont: Font family ['sans-serif'] not found. Falling back to DejaVu Sans.\n",
      "findfont: Generic family 'sans-serif' not found because none of the following families were found: Arial, Liberation Sans, Bitstream Vera Sans, sans-serif\n",
      "findfont: Font family ['sans-serif'] not found. Falling back to DejaVu Sans.\n",
      "findfont: Generic family 'sans-serif' not found because none of the following families were found: Arial, Liberation Sans, Bitstream Vera Sans, sans-serif\n",
      "findfont: Font family ['sans-serif'] not found. Falling back to DejaVu Sans.\n",
      "findfont: Generic family 'sans-serif' not found because none of the following families were found: Arial, Liberation Sans, Bitstream Vera Sans, sans-serif\n"
     ]
    }
   ],
   "source": [
    "gbc = GradientBoostingClassifier(**parameters)\n",
    "X, y = load_digits(return_X_y=True)\n",
    "X_train, X_test, y_train, y_test = train_test_split(\n",
    "    X, y, test_size=0.20, random_state=28743\n",
    ")\n",
    "gbc.fit(X, y)\n",
    "\n",
    "# Neptune integration with scikit-learn works with\n",
    "# the regression and classification problems as well.\n",
    "# Check the user guide in the documentation for more details:\n",
    "# https://docs.neptune.ai/integrations-and-supported-tools/model-training/sklearn\n",
    "run[\"classifier\"] = npt_utils.create_classifier_summary(\n",
    "    gbc, X, X_test, y, y_test\n",
    ")"
   ]
  },
  {
   "cell_type": "code",
   "execution_count": 20,
   "metadata": {},
   "outputs": [
    {
     "name": "stderr",
     "output_type": "stream",
     "text": [
      "Unexpected error occurred in Neptune background thread: Killing Neptune ping thread. Your run's status will not be updated and the run will be shown as inactive.\n",
      "Exception in thread NeptunePing:\n",
      "Traceback (most recent call last):\n",
      "  File \"/home/studio-lab-user/.conda/envs/default/lib/python3.9/site-packages/neptune/new/internal/backends/hosted_neptune_backend.py\", line 443, in ping\n",
      "    self.leaderboard_client.api.ping(\n",
      "  File \"/home/studio-lab-user/.conda/envs/default/lib/python3.9/site-packages/bravado/http_future.py\", line 200, in response\n",
      "    swagger_result = self._get_swagger_result(incoming_response)\n",
      "  File \"/home/studio-lab-user/.conda/envs/default/lib/python3.9/site-packages/bravado/http_future.py\", line 124, in wrapper\n",
      "    return func(self, *args, **kwargs)\n",
      "  File \"/home/studio-lab-user/.conda/envs/default/lib/python3.9/site-packages/bravado/http_future.py\", line 300, in _get_swagger_result\n",
      "    unmarshal_response(\n",
      "  File \"/home/studio-lab-user/.conda/envs/default/lib/python3.9/site-packages/bravado/http_future.py\", line 353, in unmarshal_response\n",
      "    raise_on_expected(incoming_response)\n",
      "  File \"/home/studio-lab-user/.conda/envs/default/lib/python3.9/site-packages/bravado/http_future.py\", line 420, in raise_on_expected\n",
      "    raise make_http_exception(\n",
      "bravado.exception.HTTPNotFound: 404 \n",
      "\n",
      "The above exception was the direct cause of the following exception:\n",
      "\n",
      "Traceback (most recent call last):\n",
      "  File \"/home/studio-lab-user/.conda/envs/default/lib/python3.9/threading.py\", line 973, in _bootstrap_inner\n",
      "    self.run()\n",
      "  File \"/home/studio-lab-user/.conda/envs/default/lib/python3.9/site-packages/neptune/new/internal/threading/daemon.py\", line 53, in run\n",
      "    self.work()\n",
      "  File \"/home/studio-lab-user/.conda/envs/default/lib/python3.9/site-packages/neptune/new/internal/threading/daemon.py\", line 77, in wrapper\n",
      "    result = func(self_, *args, **kwargs)\n",
      "  File \"/home/studio-lab-user/.conda/envs/default/lib/python3.9/site-packages/neptune/new/internal/utils/ping_background_job.py\", line 63, in work\n",
      "    self._container.ping()\n",
      "  File \"/home/studio-lab-user/.conda/envs/default/lib/python3.9/site-packages/neptune/new/metadata_containers/metadata_container.py\", line 195, in ping\n",
      "    self._backend.ping(self._id, self.container_type)\n",
      "  File \"/home/studio-lab-user/.conda/envs/default/lib/python3.9/site-packages/neptune/new/internal/backends/utils.py\", line 102, in wrapper\n",
      "    return func(*args, **kwargs)\n",
      "  File \"/home/studio-lab-user/.conda/envs/default/lib/python3.9/site-packages/neptune/new/internal/backends/hosted_neptune_backend.py\", line 448, in ping\n",
      "    raise ContainerUUIDNotFound(container_id, container_type) from e\n",
      "neptune.new.exceptions.ContainerUUIDNotFound: Run with ID 95d25d9c-b8e9-40c7-a25d-72160e9534b8 not found. Could be deleted.\n",
      "Unexpected error occurred in Neptune background thread: Killing Neptune asynchronous thread. All data is safe on disk and can be later synced manually using `neptune sync` command.\n",
      "Exception in thread NeptuneAsyncOpProcessor:\n",
      "Traceback (most recent call last):\n",
      "  File \"/home/studio-lab-user/.conda/envs/default/lib/python3.9/site-packages/neptune/new/internal/backends/hosted_neptune_backend.py\", line 655, in _execute_operations\n",
      "    self.leaderboard_client.api.executeOperations(**kwargs)\n",
      "  File \"/home/studio-lab-user/.conda/envs/default/lib/python3.9/site-packages/bravado/http_future.py\", line 200, in response\n",
      "    swagger_result = self._get_swagger_result(incoming_response)\n",
      "  File \"/home/studio-lab-user/.conda/envs/default/lib/python3.9/site-packages/bravado/http_future.py\", line 124, in wrapper\n",
      "    return func(self, *args, **kwargs)\n",
      "  File \"/home/studio-lab-user/.conda/envs/default/lib/python3.9/site-packages/bravado/http_future.py\", line 300, in _get_swagger_result\n",
      "    unmarshal_response(\n",
      "  File \"/home/studio-lab-user/.conda/envs/default/lib/python3.9/site-packages/bravado/http_future.py\", line 353, in unmarshal_response\n",
      "    raise_on_expected(incoming_response)\n",
      "  File \"/home/studio-lab-user/.conda/envs/default/lib/python3.9/site-packages/bravado/http_future.py\", line 420, in raise_on_expected\n",
      "    raise make_http_exception(\n",
      "bravado.exception.HTTPNotFound: 404 \n",
      "\n",
      "The above exception was the direct cause of the following exception:\n",
      "\n",
      "Traceback (most recent call last):\n",
      "  File \"/home/studio-lab-user/.conda/envs/default/lib/python3.9/threading.py\", line 973, in _bootstrap_inner\n",
      "    self.run()\n",
      "  File \"/home/studio-lab-user/.conda/envs/default/lib/python3.9/site-packages/neptune/new/internal/threading/daemon.py\", line 53, in run\n",
      "    self.work()\n",
      "  File \"/home/studio-lab-user/.conda/envs/default/lib/python3.9/site-packages/neptune/new/internal/operation_processors/async_operation_processor.py\", line 214, in work\n",
      "    self.process_batch(batch, version)\n",
      "  File \"/home/studio-lab-user/.conda/envs/default/lib/python3.9/site-packages/neptune/new/internal/threading/daemon.py\", line 77, in wrapper\n",
      "    result = func(self_, *args, **kwargs)\n",
      "  File \"/home/studio-lab-user/.conda/envs/default/lib/python3.9/site-packages/neptune/new/internal/operation_processors/async_operation_processor.py\", line 227, in process_batch\n",
      "    processed_count, errors = self._processor._backend.execute_operations(\n",
      "  File \"/home/studio-lab-user/.conda/envs/default/lib/python3.9/site-packages/neptune/new/internal/backends/hosted_neptune_backend.py\", line 500, in execute_operations\n",
      "    self._execute_operations(\n",
      "  File \"/home/studio-lab-user/.conda/envs/default/lib/python3.9/site-packages/neptune/new/internal/backends/utils.py\", line 102, in wrapper\n",
      "    return func(*args, **kwargs)\n",
      "  File \"/home/studio-lab-user/.conda/envs/default/lib/python3.9/site-packages/neptune/new/internal/backends/hosted_neptune_backend.py\", line 661, in _execute_operations\n",
      "    raise ContainerUUIDNotFound(container_id, container_type) from e\n",
      "neptune.new.exceptions.ContainerUUIDNotFound: Run with ID 95d25d27-d6a9-438c-9fd4-b23f78172dba not found. Could be deleted.\n",
      "Unexpected error occurred in Neptune background thread: Killing Neptune asynchronous thread. All data is safe on disk and can be later synced manually using `neptune sync` command.\n",
      "Exception in thread NeptuneAsyncOpProcessor:\n",
      "Traceback (most recent call last):\n",
      "  File \"/home/studio-lab-user/.conda/envs/default/lib/python3.9/site-packages/neptune/new/internal/backends/hosted_neptune_backend.py\", line 655, in _execute_operations\n",
      "    self.leaderboard_client.api.executeOperations(**kwargs)\n",
      "  File \"/home/studio-lab-user/.conda/envs/default/lib/python3.9/site-packages/bravado/http_future.py\", line 200, in response\n",
      "    swagger_result = self._get_swagger_result(incoming_response)\n",
      "  File \"/home/studio-lab-user/.conda/envs/default/lib/python3.9/site-packages/bravado/http_future.py\", line 124, in wrapper\n",
      "    return func(self, *args, **kwargs)\n",
      "  File \"/home/studio-lab-user/.conda/envs/default/lib/python3.9/site-packages/bravado/http_future.py\", line 300, in _get_swagger_result\n",
      "    unmarshal_response(\n",
      "  File \"/home/studio-lab-user/.conda/envs/default/lib/python3.9/site-packages/bravado/http_future.py\", line 353, in unmarshal_response\n",
      "    raise_on_expected(incoming_response)\n",
      "  File \"/home/studio-lab-user/.conda/envs/default/lib/python3.9/site-packages/bravado/http_future.py\", line 420, in raise_on_expected\n",
      "    raise make_http_exception(\n",
      "bravado.exception.HTTPNotFound: 404 \n",
      "\n",
      "The above exception was the direct cause of the following exception:\n",
      "\n",
      "Traceback (most recent call last):\n",
      "  File \"/home/studio-lab-user/.conda/envs/default/lib/python3.9/threading.py\", line 973, in _bootstrap_inner\n",
      "    self.run()\n",
      "  File \"/home/studio-lab-user/.conda/envs/default/lib/python3.9/site-packages/neptune/new/internal/threading/daemon.py\", line 53, in run\n",
      "    self.work()\n",
      "  File \"/home/studio-lab-user/.conda/envs/default/lib/python3.9/site-packages/neptune/new/internal/operation_processors/async_operation_processor.py\", line 214, in work\n",
      "    self.process_batch(batch, version)\n",
      "  File \"/home/studio-lab-user/.conda/envs/default/lib/python3.9/site-packages/neptune/new/internal/threading/daemon.py\", line 77, in wrapper\n",
      "    result = func(self_, *args, **kwargs)\n",
      "  File \"/home/studio-lab-user/.conda/envs/default/lib/python3.9/site-packages/neptune/new/internal/operation_processors/async_operation_processor.py\", line 227, in process_batch\n",
      "    processed_count, errors = self._processor._backend.execute_operations(\n",
      "  File \"/home/studio-lab-user/.conda/envs/default/lib/python3.9/site-packages/neptune/new/internal/backends/hosted_neptune_backend.py\", line 500, in execute_operations\n",
      "    self._execute_operations(\n",
      "  File \"/home/studio-lab-user/.conda/envs/default/lib/python3.9/site-packages/neptune/new/internal/backends/utils.py\", line 102, in wrapper\n",
      "    return func(*args, **kwargs)\n",
      "  File \"/home/studio-lab-user/.conda/envs/default/lib/python3.9/site-packages/neptune/new/internal/backends/hosted_neptune_backend.py\", line 661, in _execute_operations\n",
      "    raise ContainerUUIDNotFound(container_id, container_type) from e\n",
      "neptune.new.exceptions.ContainerUUIDNotFound: Run with ID 95d25d9c-b8e9-40c7-a25d-72160e9534b8 not found. Could be deleted.\n",
      "Unexpected error occurred in Neptune background thread: Killing Neptune ping thread. Your run's status will not be updated and the run will be shown as inactive.\n",
      "Exception in thread NeptunePing:\n",
      "Traceback (most recent call last):\n",
      "  File \"/home/studio-lab-user/.conda/envs/default/lib/python3.9/site-packages/neptune/new/internal/backends/hosted_neptune_backend.py\", line 443, in ping\n",
      "    self.leaderboard_client.api.ping(\n",
      "  File \"/home/studio-lab-user/.conda/envs/default/lib/python3.9/site-packages/bravado/http_future.py\", line 200, in response\n",
      "    swagger_result = self._get_swagger_result(incoming_response)\n",
      "  File \"/home/studio-lab-user/.conda/envs/default/lib/python3.9/site-packages/bravado/http_future.py\", line 124, in wrapper\n",
      "    return func(self, *args, **kwargs)\n",
      "  File \"/home/studio-lab-user/.conda/envs/default/lib/python3.9/site-packages/bravado/http_future.py\", line 300, in _get_swagger_result\n",
      "    unmarshal_response(\n",
      "  File \"/home/studio-lab-user/.conda/envs/default/lib/python3.9/site-packages/bravado/http_future.py\", line 353, in unmarshal_response\n",
      "    raise_on_expected(incoming_response)\n",
      "  File \"/home/studio-lab-user/.conda/envs/default/lib/python3.9/site-packages/bravado/http_future.py\", line 420, in raise_on_expected\n",
      "    raise make_http_exception(\n",
      "bravado.exception.HTTPNotFound: 404 \n",
      "\n",
      "The above exception was the direct cause of the following exception:\n",
      "\n",
      "Traceback (most recent call last):\n",
      "  File \"/home/studio-lab-user/.conda/envs/default/lib/python3.9/threading.py\", line 973, in _bootstrap_inner\n",
      "    self.run()\n",
      "  File \"/home/studio-lab-user/.conda/envs/default/lib/python3.9/site-packages/neptune/new/internal/threading/daemon.py\", line 53, in run\n",
      "    self.work()\n",
      "  File \"/home/studio-lab-user/.conda/envs/default/lib/python3.9/site-packages/neptune/new/internal/threading/daemon.py\", line 77, in wrapper\n",
      "    result = func(self_, *args, **kwargs)\n",
      "  File \"/home/studio-lab-user/.conda/envs/default/lib/python3.9/site-packages/neptune/new/internal/utils/ping_background_job.py\", line 63, in work\n",
      "    self._container.ping()\n",
      "  File \"/home/studio-lab-user/.conda/envs/default/lib/python3.9/site-packages/neptune/new/metadata_containers/metadata_container.py\", line 195, in ping\n",
      "    self._backend.ping(self._id, self.container_type)\n",
      "  File \"/home/studio-lab-user/.conda/envs/default/lib/python3.9/site-packages/neptune/new/internal/backends/utils.py\", line 102, in wrapper\n",
      "    return func(*args, **kwargs)\n",
      "  File \"/home/studio-lab-user/.conda/envs/default/lib/python3.9/site-packages/neptune/new/internal/backends/hosted_neptune_backend.py\", line 448, in ping\n",
      "    raise ContainerUUIDNotFound(container_id, container_type) from e\n",
      "neptune.new.exceptions.ContainerUUIDNotFound: Run with ID 95d25d27-d6a9-438c-9fd4-b23f78172dba not found. Could be deleted.\n"
     ]
    }
   ],
   "source": [
    "run[\"train_dataset\"].track_files(\"california_housing_train.csv\")\n",
    "run[\"test_dataset\"].track_files(\"california_housing_test.csv\")"
   ]
  },
  {
   "cell_type": "code",
   "execution_count": null,
   "metadata": {},
   "outputs": [],
   "source": [
    "run.stop()"
   ]
  }
 ],
 "metadata": {
  "colab": {
   "name": "Untitled23.ipynb",
   "provenance": []
  },
  "kernelspec": {
   "display_name": "default:Python",
   "language": "python",
   "name": "conda-env-default-py"
  },
  "language_info": {
   "codemirror_mode": {
    "name": "ipython",
    "version": 3
   },
   "file_extension": ".py",
   "mimetype": "text/x-python",
   "name": "python",
   "nbconvert_exporter": "python",
   "pygments_lexer": "ipython3",
   "version": "3.9.10"
  },
  "neptune": {
   "notebookId": "95d25c2a-a877-4862-9947-4f3d2b7f9c8e",
   "projectVersion": 2
  }
 },
 "nbformat": 4,
 "nbformat_minor": 4
}
