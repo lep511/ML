{
 "cells": [
  {
   "cell_type": "code",
   "execution_count": 2,
   "id": "52feed6a-e517-43ac-aa1d-829003f8a5f1",
   "metadata": {},
   "outputs": [],
   "source": [
    "from pathlib import Path"
   ]
  },
  {
   "cell_type": "code",
   "execution_count": 4,
   "id": "441f5def-3781-4149-accf-a0174ed973ea",
   "metadata": {},
   "outputs": [
    {
     "data": {
      "text/plain": [
       "[PosixPath('../../.conda'),\n",
       " PosixPath('../../.sagemaker'),\n",
       " PosixPath('../../sagemaker-studiolab-notebooks'),\n",
       " PosixPath('../../.jupyter'),\n",
       " PosixPath('../../.local'),\n",
       " PosixPath('../../.ipython'),\n",
       " PosixPath('../../.cache'),\n",
       " PosixPath('../../.config'),\n",
       " PosixPath('../../.ipynb_checkpoints'),\n",
       " PosixPath('../../.keras'),\n",
       " PosixPath('../../.npm'),\n",
       " PosixPath('../../.yarn'),\n",
       " PosixPath('../../ML-training'),\n",
       " PosixPath('../../.bokeh'),\n",
       " PosixPath('../../.neptune'),\n",
       " PosixPath('../../Data')]"
      ]
     },
     "execution_count": 4,
     "metadata": {},
     "output_type": "execute_result"
    }
   ],
   "source": [
    "p = Path('../../')\n",
    "[x for x in p.iterdir() if x.is_dir()]"
   ]
  },
  {
   "cell_type": "code",
   "execution_count": 59,
   "id": "77bbe9e9-bb49-4cc9-b0a6-1116f0d15296",
   "metadata": {},
   "outputs": [
    {
     "data": {
      "text/plain": [
       "PosixPath('../../Data/cwurData.csv')"
      ]
     },
     "execution_count": 59,
     "metadata": {},
     "output_type": "execute_result"
    }
   ],
   "source": [
    "p = Path('../../Data')\n",
    "q = p / 'cwurData.csv'\n",
    "q"
   ]
  },
  {
   "cell_type": "code",
   "execution_count": 60,
   "id": "9ae4e5e2-0d63-49e7-bf3f-e84300b98d66",
   "metadata": {},
   "outputs": [
    {
     "data": {
      "text/plain": [
       "PosixPath('/home/studio-lab-user/Data/cwurData.csv')"
      ]
     },
     "execution_count": 60,
     "metadata": {},
     "output_type": "execute_result"
    }
   ],
   "source": [
    "q.resolve()"
   ]
  },
  {
   "cell_type": "code",
   "execution_count": 61,
   "id": "1530ac4a-2034-4fb6-8629-514b2ec2fa93",
   "metadata": {},
   "outputs": [
    {
     "data": {
      "text/plain": [
       "True"
      ]
     },
     "execution_count": 61,
     "metadata": {},
     "output_type": "execute_result"
    }
   ],
   "source": [
    "q.exists()"
   ]
  },
  {
   "cell_type": "code",
   "execution_count": 58,
   "id": "188d94c4-4b94-4363-88b8-00f929713471",
   "metadata": {},
   "outputs": [
    {
     "data": {
      "text/plain": [
       "False"
      ]
     },
     "execution_count": 58,
     "metadata": {},
     "output_type": "execute_result"
    }
   ],
   "source": [
    "q.is_dir()"
   ]
  },
  {
   "cell_type": "code",
   "execution_count": 72,
   "id": "faae8e70-ab85-4e23-9c59-dd914416545d",
   "metadata": {},
   "outputs": [
    {
     "name": "stdout",
     "output_type": "stream",
     "text": [
      "../Data_csv_0539\n",
      "../../Data_csv_0539\n"
     ]
    }
   ],
   "source": [
    "link_path = \"Data_csv_0539\"\n",
    "p = Path(link_path)\n",
    "q = p\n",
    "dm = q.exists()\n",
    "_counter = 0\n",
    "\n",
    "while not dm and _counter < 100:\n",
    "    link_path = \"../\" + link_path\n",
    "    q = Path(link_path)\n",
    "    print(link_path)\n",
    "    dm = q.exists()"
   ]
  },
  {
   "cell_type": "code",
   "execution_count": 71,
   "id": "659d2724-543a-4a28-9f71-df2226e93ee9",
   "metadata": {},
   "outputs": [
    {
     "data": {
      "text/plain": [
       "'../../Data_csv_0539'"
      ]
     },
     "execution_count": 71,
     "metadata": {},
     "output_type": "execute_result"
    }
   ],
   "source": [
    "link_path"
   ]
  },
  {
   "cell_type": "code",
   "execution_count": 136,
   "id": "4729c0ff-f86d-47c3-9dcb-6284eddf7d34",
   "metadata": {},
   "outputs": [],
   "source": [
    "from pathlib import Path\n",
    "import pandas as pd\n",
    "\n",
    "def load_csv(file_name = None, dir = \"Data_csv_0539\"):   \n",
    "    link_path = dir\n",
    "    q = Path(link_path)\n",
    "    check_link = q.exists()\n",
    "    _counter = 0\n",
    "    \n",
    "    while not check_link:\n",
    "        link_path = \"../\" + link_path\n",
    "        q = Path(link_path)\n",
    "        check_link = q.exists()\n",
    "        _counter += 1\n",
    "        if _counter == 100: raise Exception(f\"Directory {dir} not found.\")\n",
    "    \n",
    "    if not file_name: \n",
    "        return list(q.glob('*.csv'))\n",
    "    \n",
    "    f = q / file_name\n",
    "    \n",
    "    if f.exists():\n",
    "        file_csv = f.resolve()\n",
    "        return pd.read_csv(file_csv, low_memory=False)\n",
    "    else:\n",
    "        raise Exception(\"File not found.\")\n",
    "    \n",
    "    return"
   ]
  },
  {
   "cell_type": "code",
   "execution_count": 141,
   "id": "115196ab-a1ff-4b48-8a86-44dbdbdfa606",
   "metadata": {},
   "outputs": [
    {
     "data": {
      "text/html": [
       "<div>\n",
       "<style scoped>\n",
       "    .dataframe tbody tr th:only-of-type {\n",
       "        vertical-align: middle;\n",
       "    }\n",
       "\n",
       "    .dataframe tbody tr th {\n",
       "        vertical-align: top;\n",
       "    }\n",
       "\n",
       "    .dataframe thead th {\n",
       "        text-align: right;\n",
       "    }\n",
       "</style>\n",
       "<table border=\"1\" class=\"dataframe\">\n",
       "  <thead>\n",
       "    <tr style=\"text-align: right;\">\n",
       "      <th></th>\n",
       "      <th>world_rank</th>\n",
       "      <th>university_name</th>\n",
       "      <th>national_rank</th>\n",
       "      <th>total_score</th>\n",
       "      <th>alumni</th>\n",
       "      <th>award</th>\n",
       "      <th>hici</th>\n",
       "      <th>ns</th>\n",
       "      <th>pub</th>\n",
       "      <th>pcp</th>\n",
       "      <th>year</th>\n",
       "    </tr>\n",
       "  </thead>\n",
       "  <tbody>\n",
       "    <tr>\n",
       "      <th>0</th>\n",
       "      <td>1</td>\n",
       "      <td>Harvard University</td>\n",
       "      <td>1</td>\n",
       "      <td>100.0</td>\n",
       "      <td>100.0</td>\n",
       "      <td>100.0</td>\n",
       "      <td>100.0</td>\n",
       "      <td>100.0</td>\n",
       "      <td>100.0</td>\n",
       "      <td>72.4</td>\n",
       "      <td>2005</td>\n",
       "    </tr>\n",
       "    <tr>\n",
       "      <th>1</th>\n",
       "      <td>2</td>\n",
       "      <td>University of Cambridge</td>\n",
       "      <td>1</td>\n",
       "      <td>73.6</td>\n",
       "      <td>99.8</td>\n",
       "      <td>93.4</td>\n",
       "      <td>53.3</td>\n",
       "      <td>56.6</td>\n",
       "      <td>70.9</td>\n",
       "      <td>66.9</td>\n",
       "      <td>2005</td>\n",
       "    </tr>\n",
       "    <tr>\n",
       "      <th>2</th>\n",
       "      <td>3</td>\n",
       "      <td>Stanford University</td>\n",
       "      <td>2</td>\n",
       "      <td>73.4</td>\n",
       "      <td>41.1</td>\n",
       "      <td>72.2</td>\n",
       "      <td>88.5</td>\n",
       "      <td>70.9</td>\n",
       "      <td>72.3</td>\n",
       "      <td>65.0</td>\n",
       "      <td>2005</td>\n",
       "    </tr>\n",
       "    <tr>\n",
       "      <th>3</th>\n",
       "      <td>4</td>\n",
       "      <td>University of California, Berkeley</td>\n",
       "      <td>3</td>\n",
       "      <td>72.8</td>\n",
       "      <td>71.8</td>\n",
       "      <td>76.0</td>\n",
       "      <td>69.4</td>\n",
       "      <td>73.9</td>\n",
       "      <td>72.2</td>\n",
       "      <td>52.7</td>\n",
       "      <td>2005</td>\n",
       "    </tr>\n",
       "    <tr>\n",
       "      <th>4</th>\n",
       "      <td>5</td>\n",
       "      <td>Massachusetts Institute of Technology (MIT)</td>\n",
       "      <td>4</td>\n",
       "      <td>70.1</td>\n",
       "      <td>74.0</td>\n",
       "      <td>80.6</td>\n",
       "      <td>66.7</td>\n",
       "      <td>65.8</td>\n",
       "      <td>64.3</td>\n",
       "      <td>53.0</td>\n",
       "      <td>2005</td>\n",
       "    </tr>\n",
       "    <tr>\n",
       "      <th>...</th>\n",
       "      <td>...</td>\n",
       "      <td>...</td>\n",
       "      <td>...</td>\n",
       "      <td>...</td>\n",
       "      <td>...</td>\n",
       "      <td>...</td>\n",
       "      <td>...</td>\n",
       "      <td>...</td>\n",
       "      <td>...</td>\n",
       "      <td>...</td>\n",
       "      <td>...</td>\n",
       "    </tr>\n",
       "    <tr>\n",
       "      <th>4892</th>\n",
       "      <td>401-500</td>\n",
       "      <td>University of Trieste</td>\n",
       "      <td>11-20</td>\n",
       "      <td>NaN</td>\n",
       "      <td>0.0</td>\n",
       "      <td>0.0</td>\n",
       "      <td>5.0</td>\n",
       "      <td>10.9</td>\n",
       "      <td>25.1</td>\n",
       "      <td>20.1</td>\n",
       "      <td>2015</td>\n",
       "    </tr>\n",
       "    <tr>\n",
       "      <th>4893</th>\n",
       "      <td>401-500</td>\n",
       "      <td>University of Zaragoza</td>\n",
       "      <td>9-13</td>\n",
       "      <td>NaN</td>\n",
       "      <td>0.0</td>\n",
       "      <td>0.0</td>\n",
       "      <td>7.6</td>\n",
       "      <td>5.1</td>\n",
       "      <td>33.3</td>\n",
       "      <td>13.1</td>\n",
       "      <td>2015</td>\n",
       "    </tr>\n",
       "    <tr>\n",
       "      <th>4894</th>\n",
       "      <td>401-500</td>\n",
       "      <td>Utah State University</td>\n",
       "      <td>126-146</td>\n",
       "      <td>NaN</td>\n",
       "      <td>13.6</td>\n",
       "      <td>0.0</td>\n",
       "      <td>3.6</td>\n",
       "      <td>10.8</td>\n",
       "      <td>25.1</td>\n",
       "      <td>15.5</td>\n",
       "      <td>2015</td>\n",
       "    </tr>\n",
       "    <tr>\n",
       "      <th>4895</th>\n",
       "      <td>401-500</td>\n",
       "      <td>Vienna University of Technology</td>\n",
       "      <td>4-6</td>\n",
       "      <td>NaN</td>\n",
       "      <td>0.0</td>\n",
       "      <td>0.0</td>\n",
       "      <td>0.0</td>\n",
       "      <td>12.2</td>\n",
       "      <td>28.8</td>\n",
       "      <td>22.9</td>\n",
       "      <td>2015</td>\n",
       "    </tr>\n",
       "    <tr>\n",
       "      <th>4896</th>\n",
       "      <td>401-500</td>\n",
       "      <td>Wake Forest University</td>\n",
       "      <td>126-146</td>\n",
       "      <td>NaN</td>\n",
       "      <td>0.0</td>\n",
       "      <td>0.0</td>\n",
       "      <td>14.9</td>\n",
       "      <td>7.5</td>\n",
       "      <td>25.0</td>\n",
       "      <td>11.9</td>\n",
       "      <td>2015</td>\n",
       "    </tr>\n",
       "  </tbody>\n",
       "</table>\n",
       "<p>4897 rows × 11 columns</p>\n",
       "</div>"
      ],
      "text/plain": [
       "     world_rank                              university_name national_rank  \\\n",
       "0             1                           Harvard University             1   \n",
       "1             2                      University of Cambridge             1   \n",
       "2             3                          Stanford University             2   \n",
       "3             4           University of California, Berkeley             3   \n",
       "4             5  Massachusetts Institute of Technology (MIT)             4   \n",
       "...         ...                                          ...           ...   \n",
       "4892    401-500                        University of Trieste         11-20   \n",
       "4893    401-500                       University of Zaragoza          9-13   \n",
       "4894    401-500                        Utah State University       126-146   \n",
       "4895    401-500              Vienna University of Technology           4-6   \n",
       "4896    401-500                       Wake Forest University       126-146   \n",
       "\n",
       "      total_score  alumni  award   hici     ns    pub   pcp  year  \n",
       "0           100.0   100.0  100.0  100.0  100.0  100.0  72.4  2005  \n",
       "1            73.6    99.8   93.4   53.3   56.6   70.9  66.9  2005  \n",
       "2            73.4    41.1   72.2   88.5   70.9   72.3  65.0  2005  \n",
       "3            72.8    71.8   76.0   69.4   73.9   72.2  52.7  2005  \n",
       "4            70.1    74.0   80.6   66.7   65.8   64.3  53.0  2005  \n",
       "...           ...     ...    ...    ...    ...    ...   ...   ...  \n",
       "4892          NaN     0.0    0.0    5.0   10.9   25.1  20.1  2015  \n",
       "4893          NaN     0.0    0.0    7.6    5.1   33.3  13.1  2015  \n",
       "4894          NaN    13.6    0.0    3.6   10.8   25.1  15.5  2015  \n",
       "4895          NaN     0.0    0.0    0.0   12.2   28.8  22.9  2015  \n",
       "4896          NaN     0.0    0.0   14.9    7.5   25.0  11.9  2015  \n",
       "\n",
       "[4897 rows x 11 columns]"
      ]
     },
     "execution_count": 141,
     "metadata": {},
     "output_type": "execute_result"
    }
   ],
   "source": [
    "load_csv(\"shanghaiData.csv\")"
   ]
  }
 ],
 "metadata": {
  "kernelspec": {
   "display_name": "default:Python",
   "language": "python",
   "name": "conda-env-default-py"
  },
  "language_info": {
   "codemirror_mode": {
    "name": "ipython",
    "version": 3
   },
   "file_extension": ".py",
   "mimetype": "text/x-python",
   "name": "python",
   "nbconvert_exporter": "python",
   "pygments_lexer": "ipython3",
   "version": "3.9.10"
  }
 },
 "nbformat": 4,
 "nbformat_minor": 5
}
