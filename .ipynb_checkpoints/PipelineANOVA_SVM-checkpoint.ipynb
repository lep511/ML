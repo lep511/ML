{
  "nbformat": 4,
  "nbformat_minor": 0,
  "metadata": {
    "colab": {
      "name": "PipelineANOVA_SVM.ipynb",
      "provenance": []
    },
    "kernelspec": {
      "name": "python3",
      "display_name": "Python 3"
    },
    "language_info": {
      "name": "python"
    }
  },
  "cells": [
    {
      "cell_type": "markdown",
      "source": [
        "# Pipeline ANOVA SVM \n",
        "\n",
        "Este ejemplo muestra cómo una selección de funciones se puede integrar fácilmente dentro de una canalización de aprendizaje automático. También mostramos que puede inspeccionar fácilmente parte de la tubería."
      ],
      "metadata": {
        "id": "et3b85qEIsru"
      }
    },
    {
      "cell_type": "code",
      "execution_count": 1,
      "metadata": {
        "id": "_lw3gcKKHW4W"
      },
      "outputs": [],
      "source": [
        "from sklearn import set_config\n",
        "set_config(display=\"diagram\")"
      ]
    },
    {
      "cell_type": "markdown",
      "source": [
        "Comenzaremos generando un conjunto de datos de clasificación binaria. Posteriormente, dividiremos el conjunto de datos en dos subconjuntos."
      ],
      "metadata": {
        "id": "SNC8BDxHJCrA"
      }
    },
    {
      "cell_type": "code",
      "source": [
        "from sklearn.datasets import make_classification\n",
        "from sklearn.model_selection import train_test_split\n",
        "\n",
        "X, y = make_classification(\n",
        "    n_features=20,\n",
        "    n_informative=3,\n",
        "    n_redundant=0,\n",
        "    n_classes=2,\n",
        "    n_clusters_per_class=2,\n",
        "    random_state=42,\n",
        ")\n",
        "X_train, X_test, y_train, y_test = train_test_split(X, y, random_state=42)"
      ],
      "metadata": {
        "id": "KO961m3cHepT"
      },
      "execution_count": 2,
      "outputs": []
    },
    {
      "cell_type": "markdown",
      "source": [
        "Un error común que se comete con la selección de características es buscar un subconjunto de características discriminatorias en el conjunto de datos completo en lugar de usar solo el conjunto de entrenamiento. El uso de scikit-learn Pipeline evita cometer tal error.\n",
        "\n",
        "Aquí, demostraremos cómo construir una canalización donde el primer paso será la selección de funciones.\n",
        "\n",
        "Al solicitar fitlos datos de entrenamiento, se seleccionará un subconjunto de funciones y se almacenará el índice de estas funciones seleccionadas. El selector de características reducirá posteriormente el número de características y pasará este subconjunto al clasificador que será entrenado."
      ],
      "metadata": {
        "id": "M1gFSF8xJPK-"
      }
    },
    {
      "cell_type": "code",
      "source": [
        "from sklearn.feature_selection import SelectKBest, f_classif\n",
        "from sklearn.pipeline import make_pipeline\n",
        "from sklearn.svm import LinearSVC\n",
        "\n",
        "anova_filter = SelectKBest(f_classif, k=3)\n",
        "clf = LinearSVC()\n",
        "anova_svm = make_pipeline(anova_filter, clf)\n",
        "anova_svm.fit(X_train, y_train)"
      ],
      "metadata": {
        "colab": {
          "base_uri": "https://localhost:8080/",
          "height": 172
        },
        "id": "gcyoKeD2HfsU",
        "outputId": "21776012-110a-477a-8be2-be0796b28714"
      },
      "execution_count": 6,
      "outputs": [
        {
          "output_type": "execute_result",
          "data": {
            "text/plain": [
              "Pipeline(steps=[('selectkbest', SelectKBest(k=3)), ('linearsvc', LinearSVC())])"
            ],
            "text/html": [
              "<style>#sk-59432e3f-1aa9-4aaa-a6a7-dac81ec7bcce {color: black;background-color: white;}#sk-59432e3f-1aa9-4aaa-a6a7-dac81ec7bcce pre{padding: 0;}#sk-59432e3f-1aa9-4aaa-a6a7-dac81ec7bcce div.sk-toggleable {background-color: white;}#sk-59432e3f-1aa9-4aaa-a6a7-dac81ec7bcce label.sk-toggleable__label {cursor: pointer;display: block;width: 100%;margin-bottom: 0;padding: 0.3em;box-sizing: border-box;text-align: center;}#sk-59432e3f-1aa9-4aaa-a6a7-dac81ec7bcce label.sk-toggleable__label-arrow:before {content: \"▸\";float: left;margin-right: 0.25em;color: #696969;}#sk-59432e3f-1aa9-4aaa-a6a7-dac81ec7bcce label.sk-toggleable__label-arrow:hover:before {color: black;}#sk-59432e3f-1aa9-4aaa-a6a7-dac81ec7bcce div.sk-estimator:hover label.sk-toggleable__label-arrow:before {color: black;}#sk-59432e3f-1aa9-4aaa-a6a7-dac81ec7bcce div.sk-toggleable__content {max-height: 0;max-width: 0;overflow: hidden;text-align: left;background-color: #f0f8ff;}#sk-59432e3f-1aa9-4aaa-a6a7-dac81ec7bcce div.sk-toggleable__content pre {margin: 0.2em;color: black;border-radius: 0.25em;background-color: #f0f8ff;}#sk-59432e3f-1aa9-4aaa-a6a7-dac81ec7bcce input.sk-toggleable__control:checked~div.sk-toggleable__content {max-height: 200px;max-width: 100%;overflow: auto;}#sk-59432e3f-1aa9-4aaa-a6a7-dac81ec7bcce input.sk-toggleable__control:checked~label.sk-toggleable__label-arrow:before {content: \"▾\";}#sk-59432e3f-1aa9-4aaa-a6a7-dac81ec7bcce div.sk-estimator input.sk-toggleable__control:checked~label.sk-toggleable__label {background-color: #d4ebff;}#sk-59432e3f-1aa9-4aaa-a6a7-dac81ec7bcce div.sk-label input.sk-toggleable__control:checked~label.sk-toggleable__label {background-color: #d4ebff;}#sk-59432e3f-1aa9-4aaa-a6a7-dac81ec7bcce input.sk-hidden--visually {border: 0;clip: rect(1px 1px 1px 1px);clip: rect(1px, 1px, 1px, 1px);height: 1px;margin: -1px;overflow: hidden;padding: 0;position: absolute;width: 1px;}#sk-59432e3f-1aa9-4aaa-a6a7-dac81ec7bcce div.sk-estimator {font-family: monospace;background-color: #f0f8ff;border: 1px dotted black;border-radius: 0.25em;box-sizing: border-box;margin-bottom: 0.5em;}#sk-59432e3f-1aa9-4aaa-a6a7-dac81ec7bcce div.sk-estimator:hover {background-color: #d4ebff;}#sk-59432e3f-1aa9-4aaa-a6a7-dac81ec7bcce div.sk-parallel-item::after {content: \"\";width: 100%;border-bottom: 1px solid gray;flex-grow: 1;}#sk-59432e3f-1aa9-4aaa-a6a7-dac81ec7bcce div.sk-label:hover label.sk-toggleable__label {background-color: #d4ebff;}#sk-59432e3f-1aa9-4aaa-a6a7-dac81ec7bcce div.sk-serial::before {content: \"\";position: absolute;border-left: 1px solid gray;box-sizing: border-box;top: 2em;bottom: 0;left: 50%;}#sk-59432e3f-1aa9-4aaa-a6a7-dac81ec7bcce div.sk-serial {display: flex;flex-direction: column;align-items: center;background-color: white;padding-right: 0.2em;padding-left: 0.2em;}#sk-59432e3f-1aa9-4aaa-a6a7-dac81ec7bcce div.sk-item {z-index: 1;}#sk-59432e3f-1aa9-4aaa-a6a7-dac81ec7bcce div.sk-parallel {display: flex;align-items: stretch;justify-content: center;background-color: white;}#sk-59432e3f-1aa9-4aaa-a6a7-dac81ec7bcce div.sk-parallel::before {content: \"\";position: absolute;border-left: 1px solid gray;box-sizing: border-box;top: 2em;bottom: 0;left: 50%;}#sk-59432e3f-1aa9-4aaa-a6a7-dac81ec7bcce div.sk-parallel-item {display: flex;flex-direction: column;position: relative;background-color: white;}#sk-59432e3f-1aa9-4aaa-a6a7-dac81ec7bcce div.sk-parallel-item:first-child::after {align-self: flex-end;width: 50%;}#sk-59432e3f-1aa9-4aaa-a6a7-dac81ec7bcce div.sk-parallel-item:last-child::after {align-self: flex-start;width: 50%;}#sk-59432e3f-1aa9-4aaa-a6a7-dac81ec7bcce div.sk-parallel-item:only-child::after {width: 0;}#sk-59432e3f-1aa9-4aaa-a6a7-dac81ec7bcce div.sk-dashed-wrapped {border: 1px dashed gray;margin: 0 0.4em 0.5em 0.4em;box-sizing: border-box;padding-bottom: 0.4em;background-color: white;position: relative;}#sk-59432e3f-1aa9-4aaa-a6a7-dac81ec7bcce div.sk-label label {font-family: monospace;font-weight: bold;background-color: white;display: inline-block;line-height: 1.2em;}#sk-59432e3f-1aa9-4aaa-a6a7-dac81ec7bcce div.sk-label-container {position: relative;z-index: 2;text-align: center;}#sk-59432e3f-1aa9-4aaa-a6a7-dac81ec7bcce div.sk-container {/* jupyter's `normalize.less` sets `[hidden] { display: none; }` but bootstrap.min.css set `[hidden] { display: none !important; }` so we also need the `!important` here to be able to override the default hidden behavior on the sphinx rendered scikit-learn.org. See: https://github.com/scikit-learn/scikit-learn/issues/21755 */display: inline-block !important;position: relative;}#sk-59432e3f-1aa9-4aaa-a6a7-dac81ec7bcce div.sk-text-repr-fallback {display: none;}</style><div id=\"sk-59432e3f-1aa9-4aaa-a6a7-dac81ec7bcce\" class=\"sk-top-container\"><div class=\"sk-text-repr-fallback\"><pre>Pipeline(steps=[(&#x27;selectkbest&#x27;, SelectKBest(k=3)), (&#x27;linearsvc&#x27;, LinearSVC())])</pre><b>Please rerun this cell to show the HTML repr or trust the notebook.</b></div><div class=\"sk-container\" hidden><div class=\"sk-item sk-dashed-wrapped\"><div class=\"sk-label-container\"><div class=\"sk-label sk-toggleable\"><input class=\"sk-toggleable__control sk-hidden--visually\" id=\"1e1d494a-02c3-404d-80d9-3980368e4d55\" type=\"checkbox\" ><label for=\"1e1d494a-02c3-404d-80d9-3980368e4d55\" class=\"sk-toggleable__label sk-toggleable__label-arrow\">Pipeline</label><div class=\"sk-toggleable__content\"><pre>Pipeline(steps=[(&#x27;selectkbest&#x27;, SelectKBest(k=3)), (&#x27;linearsvc&#x27;, LinearSVC())])</pre></div></div></div><div class=\"sk-serial\"><div class=\"sk-item\"><div class=\"sk-estimator sk-toggleable\"><input class=\"sk-toggleable__control sk-hidden--visually\" id=\"049a4f73-3c01-41aa-a8e9-288f8a4b522f\" type=\"checkbox\" ><label for=\"049a4f73-3c01-41aa-a8e9-288f8a4b522f\" class=\"sk-toggleable__label sk-toggleable__label-arrow\">SelectKBest</label><div class=\"sk-toggleable__content\"><pre>SelectKBest(k=3)</pre></div></div></div><div class=\"sk-item\"><div class=\"sk-estimator sk-toggleable\"><input class=\"sk-toggleable__control sk-hidden--visually\" id=\"28cb54fb-7b9f-40db-88ad-8824a20858d3\" type=\"checkbox\" ><label for=\"28cb54fb-7b9f-40db-88ad-8824a20858d3\" class=\"sk-toggleable__label sk-toggleable__label-arrow\">LinearSVC</label><div class=\"sk-toggleable__content\"><pre>LinearSVC()</pre></div></div></div></div></div></div></div>"
            ]
          },
          "metadata": {},
          "execution_count": 6
        }
      ]
    },
    {
      "cell_type": "markdown",
      "source": [
        "Una vez que se completa el entrenamiento, podemos predecir nuevas muestras no vistas. En este caso, el selector de funciones solo seleccionará las funciones más discriminatorias en función de la información almacenada durante el entrenamiento. Luego, los datos se pasarán al clasificador que hará la predicción.\n",
        "\n",
        "Aquí, informamos las métricas finales a través de un informe de clasificación.\n"
      ],
      "metadata": {
        "id": "WTS4wcV5JaWn"
      }
    },
    {
      "cell_type": "code",
      "source": [
        "from sklearn.metrics import classification_report\n",
        "\n",
        "y_pred = anova_svm.predict(X_test)\n",
        "print(classification_report(y_test, y_pred))"
      ],
      "metadata": {
        "colab": {
          "base_uri": "https://localhost:8080/"
        },
        "id": "YkWl0XhQH_C5",
        "outputId": "b12fb63c-36d1-4de5-90b5-772ff5493b60"
      },
      "execution_count": 7,
      "outputs": [
        {
          "output_type": "stream",
          "name": "stdout",
          "text": [
            "              precision    recall  f1-score   support\n",
            "\n",
            "           0       0.92      0.80      0.86        15\n",
            "           1       0.75      0.90      0.82        10\n",
            "\n",
            "    accuracy                           0.84        25\n",
            "   macro avg       0.84      0.85      0.84        25\n",
            "weighted avg       0.85      0.84      0.84        25\n",
            "\n"
          ]
        }
      ]
    },
    {
      "cell_type": "markdown",
      "source": [
        "Tenga en cuenta que puede inspeccionar un paso en la canalización. Por ejemplo, nos podrían interesar los parámetros del clasificador. Dado que seleccionamos tres características, esperamos tener tres coeficientes."
      ],
      "metadata": {
        "id": "YAWQtFraJp8G"
      }
    },
    {
      "cell_type": "code",
      "source": [
        "anova_svm[-1].coef_"
      ],
      "metadata": {
        "colab": {
          "base_uri": "https://localhost:8080/"
        },
        "id": "EITCLCGuJrDo",
        "outputId": "c390f9d1-ade3-47d6-c0f6-a2b055f34ed5"
      },
      "execution_count": 8,
      "outputs": [
        {
          "output_type": "execute_result",
          "data": {
            "text/plain": [
              "array([[0.75791147, 0.27159612, 0.26108957]])"
            ]
          },
          "metadata": {},
          "execution_count": 8
        }
      ]
    },
    {
      "cell_type": "markdown",
      "source": [
        "Sin embargo, no sabemos qué características se seleccionaron del conjunto de datos original. Podríamos proceder de varias maneras. Aquí, invertiremos la transformación de estos coeficientes para obtener información sobre el espacio original."
      ],
      "metadata": {
        "id": "BVOICo2zJwt-"
      }
    },
    {
      "cell_type": "code",
      "source": [
        "anova_svm[:-1].inverse_transform(anova_svm[-1].coef_)"
      ],
      "metadata": {
        "colab": {
          "base_uri": "https://localhost:8080/"
        },
        "id": "fGwcmpdLJzQs",
        "outputId": "8a3c6a6a-6c32-47ca-b2df-b32327687772"
      },
      "execution_count": 9,
      "outputs": [
        {
          "output_type": "execute_result",
          "data": {
            "text/plain": [
              "array([[0.        , 0.        , 0.75791147, 0.        , 0.        ,\n",
              "        0.        , 0.        , 0.        , 0.        , 0.27159612,\n",
              "        0.        , 0.        , 0.        , 0.        , 0.        ,\n",
              "        0.        , 0.        , 0.        , 0.        , 0.26108957]])"
            ]
          },
          "metadata": {},
          "execution_count": 9
        }
      ]
    },
    {
      "cell_type": "markdown",
      "source": [
        "Podemos ver que las tres primeras funciones fueron las funciones seleccionadas en el primer paso."
      ],
      "metadata": {
        "id": "axaIuk8bJ4LO"
      }
    }
  ]
}