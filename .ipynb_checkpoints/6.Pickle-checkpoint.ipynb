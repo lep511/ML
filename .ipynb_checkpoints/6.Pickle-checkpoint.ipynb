{
 "cells": [
  {
   "cell_type": "markdown",
   "id": "17207b4c-29bf-4021-b20f-947abcb53ec6",
   "metadata": {},
   "source": [
    "# Guardar un modelo de aprendizaje automático\n",
    "En el aprendizaje automático, mientras trabajamos con la biblioteca scikit learn , necesitamos guardar los modelos entrenados en un archivo y restaurarlos para poder reutilizarlos para comparar el modelo con otros modelos, para probar el modelo en nuevos datos. El almacenamiento de datos se denomina serialización , mientras que la restauración de datos se denomina deserialización.\n",
    "\n",
    "Además, tratamos con diferentes tipos y tamaños de datos. Algunos conjuntos de datos se entrenan fácilmente, es decir, toman menos tiempo para entrenar, pero los conjuntos de datos cuyo tamaño es grande (más de 1 GB) pueden tardar mucho en entrenarse en una máquina local incluso con GPU. Cuando necesitemos los mismos datos entrenados en algún proyecto diferente o más tarde en algún momento, para evitar el desperdicio del tiempo de entrenamiento, almacene el modelo entrenado para que pueda usarse en cualquier momento en el futuro. \n",
    "\n",
    "Hay dos formas de guardar un modelo en scikit learn:"
   ]
  },
  {
   "cell_type": "markdown",
   "id": "2990f750-0483-4360-8012-52d1dba8dea7",
   "metadata": {},
   "source": [
    "### Pickle string\n",
    "\n",
    "El módulo pickle implementa un algoritmo fundamental pero poderoso para serializar y deserializar una estructura de objeto de Python. \n",
    " \n",
    "El modelo Pickle proporciona las siguientes funciones:\n",
    "* `pickle.dump` para serializar una jerarquía de objetos, simplemente usa dump().\n",
    "\n",
    "* `pickle.load` para deserializar un flujo de datos, llama a la función cargas()."
   ]
  },
  {
   "cell_type": "markdown",
   "id": "44fd4077-ee08-4474-a234-10e3d8f4f06d",
   "metadata": {},
   "source": [
    "### Ejemplo\n",
    "Apliquemos K vecino más cercano en el conjunto de datos del iris y luego guardemos el modelo. \n"
   ]
  },
  {
   "cell_type": "code",
   "execution_count": 11,
   "id": "0c5777b4-8030-4c93-9efe-a48bdf63516d",
   "metadata": {},
   "outputs": [],
   "source": [
    "import numpy as np\n",
    "from sklearn.datasets import load_iris\n",
    "# import KNeighborsClassifier model\n",
    "from sklearn.neighbors import KNeighborsClassifier as KNN\n",
    "from sklearn.model_selection import train_test_split\n",
    "import pickle"
   ]
  },
  {
   "cell_type": "code",
   "execution_count": 3,
   "id": "05fbc5a1-a023-4cc1-9c28-7ff7af870a8e",
   "metadata": {},
   "outputs": [],
   "source": [
    "# Load dataset\n",
    "iris = load_iris()"
   ]
  },
  {
   "cell_type": "code",
   "execution_count": 4,
   "id": "e959532d-851f-4a34-ad96-91750eeb06de",
   "metadata": {},
   "outputs": [],
   "source": [
    "X = iris.data\n",
    "y = iris.target"
   ]
  },
  {
   "cell_type": "code",
   "execution_count": 8,
   "id": "700e5a85-1eed-45a7-8e36-e1db5736983d",
   "metadata": {},
   "outputs": [],
   "source": [
    "# Split dataset into train and test\n",
    "X_train, X_test, y_train, y_test = \\\n",
    "    train_test_split(X, y, test_size = 0.3,\n",
    "                        random_state = 2018)"
   ]
  },
  {
   "cell_type": "code",
   "execution_count": 9,
   "id": "5fd78ce5-b9d6-4c5b-9eab-7fdb77f57964",
   "metadata": {},
   "outputs": [],
   "source": [
    "knn = KNN(n_neighbors = 3)"
   ]
  },
  {
   "cell_type": "code",
   "execution_count": 10,
   "id": "d33eeb9b-6be9-4da7-b216-858cbe77b5e4",
   "metadata": {},
   "outputs": [
    {
     "data": {
      "text/plain": [
       "KNeighborsClassifier(n_neighbors=3)"
      ]
     },
     "execution_count": 10,
     "metadata": {},
     "output_type": "execute_result"
    }
   ],
   "source": [
    "# train model\n",
    "knn.fit(X_train, y_train)"
   ]
  },
  {
   "cell_type": "code",
   "execution_count": 12,
   "id": "59242e9c-6680-4e5d-bc9e-0bee98457b01",
   "metadata": {},
   "outputs": [],
   "source": [
    "# Save the trained model as a pickle string.\n",
    "saved_model = pickle.dumps(knn)"
   ]
  },
  {
   "cell_type": "code",
   "execution_count": 13,
   "id": "fcef06a5-f3bb-45ed-957f-781c7c6c86d0",
   "metadata": {},
   "outputs": [],
   "source": [
    "# Load the pickled model\n",
    "knn_from_pickle = pickle.loads(saved_model)"
   ]
  },
  {
   "cell_type": "code",
   "execution_count": 14,
   "id": "dd0aeb39-c77b-4f5f-8b83-751bb4a8e19e",
   "metadata": {},
   "outputs": [
    {
     "data": {
      "text/plain": [
       "array([0, 1, 1, 1, 0, 1, 2, 1, 2, 0, 0, 2, 2, 2, 0, 2, 2, 0, 1, 1, 1, 0,\n",
       "       2, 0, 0, 2, 0, 0, 2, 1, 0, 2, 0, 1, 2, 0, 0, 0, 0, 1, 0, 2, 2, 2,\n",
       "       1])"
      ]
     },
     "execution_count": 14,
     "metadata": {},
     "output_type": "execute_result"
    }
   ],
   "source": [
    "# Use the loaded pickled model to make predictions\n",
    "knn_from_pickle.predict(X_test)"
   ]
  }
 ],
 "metadata": {
  "kernelspec": {
   "display_name": "default:Python",
   "language": "python",
   "name": "conda-env-default-py"
  },
  "language_info": {
   "codemirror_mode": {
    "name": "ipython",
    "version": 3
   },
   "file_extension": ".py",
   "mimetype": "text/x-python",
   "name": "python",
   "nbconvert_exporter": "python",
   "pygments_lexer": "ipython3",
   "version": "3.9.10"
  }
 },
 "nbformat": 4,
 "nbformat_minor": 5
}
