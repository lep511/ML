{
 "cells": [
  {
   "cell_type": "markdown",
   "id": "65b3f67b-a24d-4159-9bc0-f51ded07137e",
   "metadata": {},
   "source": [
    "|User|Country\n",
    "|--|--|\n",
    "|[Abhishek Thakur](https://www.kaggle.com/abhishek) |Norway |\n",
    "|--|--|\n",
    "|[Vopani](https://www.kaggle.com/rohanrao)|India|\n",
    "|--|--|\n",
    "|[Bojan Tunguz](https://www.kaggle.com/tunguz)  | United States |\n",
    "|--|--|\n",
    "|[Chris Deotte](https://www.kaggle.com/cdeotte) | United States |\n",
    "|--|--|\n",
    "|[Firat Gonen](https://www.kaggle.com/frtgnn)|Turkey|\n",
    "|--|--|\n",
    "|[CPMP](https://www.kaggle.com/cpmpml)|France|\n",
    "|--|--|\n",
    "|[SRK](https://www.kaggle.com/sudalairajkumar) | India |\n"
   ]
  }
 ],
 "metadata": {
  "kernelspec": {
   "display_name": "default:Python",
   "language": "python",
   "name": "conda-env-default-py"
  },
  "language_info": {
   "codemirror_mode": {
    "name": "ipython",
    "version": 3
   },
   "file_extension": ".py",
   "mimetype": "text/x-python",
   "name": "python",
   "nbconvert_exporter": "python",
   "pygments_lexer": "ipython3",
   "version": "3.9.10"
  }
 },
 "nbformat": 4,
 "nbformat_minor": 5
}
