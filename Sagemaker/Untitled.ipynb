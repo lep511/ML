{
 "cells": [
  {
   "cell_type": "code",
   "execution_count": 1,
   "id": "5ea58fbe-d338-4920-bab8-7ee7781b4e1f",
   "metadata": {},
   "outputs": [],
   "source": [
    "import gzip"
   ]
  },
  {
   "cell_type": "code",
   "execution_count": null,
   "id": "8e53f439-1d55-4382-b76f-d98f836a8427",
   "metadata": {},
   "outputs": [],
   "source": []
  },
  {
   "cell_type": "code",
   "execution_count": 14,
   "id": "0d90d39c-2fbc-4f2e-a78c-61581f339629",
   "metadata": {},
   "outputs": [],
   "source": [
    "s_text = \"\"\"Un informe de la División Jurídica del Ministerio de Turismo (Mintur) sostiene que el proceso de compra directa de publicidad en calle a la empresa Netcom no siguió las normas, tal como lo había denunciado en su momento el exdirector de Turismo, Martín Pérez Banchero. El informe sostiene que “el procedimiento llevado a cabo podría calificarse como irregular” por la “omisión de cumplimiento de los requisitos necesarios para contratar válidamente”, según informa Búsqueda este jueves.\n",
    "\n",
    "La compra directa fue lo que derivó en el conflicto entre el entonces ministro Germán Cardoso y Pérez Banchero, que luego de la polémica por las compras terminó renunciando y pidiendo que se investigara la situación a nivel parlamentario, lo que derivó después en la renuncia de Cardoso y en una denuncia penal por irregularidades en la gestión del ministerio que investiga actualmente la Justicia.\n",
    "\n",
    "Tal como recuerda el semanario, la denuncia de Pérez Banchero se basaba en que el expediente de la compra directa por más de 24 millones de pesos se había iniciado en julio de 2021, pero los servicios ya se estaban ejecutando desde hacía meses.\n",
    "\n",
    "En el expediente interno del Mintur, que investiga la situación a pedido del nuevo ministro, Tabaré Viera, se incluye varias comunicaciones de la empresa Netcom que exige empezar a cobrar los servicios que ya habían llevado adelante. Según informa Búsqueda, que accedió a la documentación, la empresa de publicidad reclama casi 19 millones de pesos por los afiches publicitarios expuestos en la vía pública entre marzo y agosto de 2021.\n",
    "\n",
    "Leé más sobre esto: Pérez Banchero y agencia de publicidad confirman rol de asesores de Cardoso en la asignación de pauta por compra directa\n",
    "El informe de Jurídica del ministerio fue elaborado por la abogada Florencia Marino y ratificado por la directora de la división, María Noelia Fernández. Las abogadas sostienen que el procedimiento de compra es inconcluso ya que no hubo una autorización directa por parte del ministerio para que la empresa empezara a trabajar.\n",
    "\n",
    "Marino indica que no cumple con las excepciones que habilitan a la compra directa, “en cuanto no existe resolución del jerarca del organismo, fundando la razones para ampararse a la excepción señalada, así como tampoco cuenta con la certificación del Ministerio de Economía y Finanzas, ni con la intervención del Tribunal de Cuentas de la República”.\n",
    "\n",
    "Asegura que si el servicio hubiera sido realizado sin autorización, tal como pasó, “no pueden efectuarse pagos al amparo del presente procedimiento, por encontrarse incompleto y por no haberse cumplido con los requisitos exigidos por las normas que lo regulan”.\n",
    "\n",
    "Cardoso, durante su comparecencia en el Parlamento, se había pronunciado en la misma línea. Dijo que como él no había firmado la orden de contratación directa, el servicio “no se cobra”, y admitió que se trata de un “expediente inconcluso”. El diputado frenteamplista Gustavo Olmos también había cuestionado en ese momento que la empresa realizara trabajos por 24 millones de dólares “sin que nadie haya dado su conformidad”.\n",
    "\"\"\""
   ]
  },
  {
   "cell_type": "code",
   "execution_count": 15,
   "id": "27b41c3d-19dd-4d73-b98f-152941e3a201",
   "metadata": {},
   "outputs": [],
   "source": [
    "s_in = bytes(s_text, 'utf-8')\n",
    "s_out = gzip.compress(s_in)"
   ]
  },
  {
   "cell_type": "code",
   "execution_count": 29,
   "id": "fc230033-c748-4f71-9c3c-aea557e936c5",
   "metadata": {},
   "outputs": [],
   "source": [
    "b_text = gzip.decompress(s_out)"
   ]
  },
  {
   "cell_type": "code",
   "execution_count": 30,
   "id": "babadebd-03b0-4a52-a16b-a7f9461186c6",
   "metadata": {},
   "outputs": [
    {
     "data": {
      "text/plain": [
       "'Un informe de la División Jurídica del Ministerio de Turismo (Mintur) sostiene que el proceso de compra directa de publicidad en calle a la empresa Netcom no siguió las normas, tal como lo había denunciado en su momento el exdirector de Turismo, Martín Pérez Banchero. El informe sostiene que “el procedimiento llevado a cabo podría calificarse como irregular” por la “omisión de cumplimiento de los requisitos necesarios para contratar válidamente”, según informa Búsqueda este jueves.\\n\\nLa compra directa fue lo que derivó en el conflicto entre el entonces ministro Germán Cardoso y Pérez Banchero, que luego de la polémica por las compras terminó renunciando y pidiendo que se investigara la situación a nivel parlamentario, lo que derivó después en la renuncia de Cardoso y en una denuncia penal por irregularidades en la gestión del ministerio que investiga actualmente la Justicia.\\n\\nTal como recuerda el semanario, la denuncia de Pérez Banchero se basaba en que el expediente de la compra directa por más de 24 millones de pesos se había iniciado en julio de 2021, pero los servicios ya se estaban ejecutando desde hacía meses.\\n\\nEn el expediente interno del Mintur, que investiga la situación a pedido del nuevo ministro, Tabaré Viera, se incluye varias comunicaciones de la empresa Netcom que exige empezar a cobrar los servicios que ya habían llevado adelante. Según informa Búsqueda, que accedió a la documentación, la empresa de publicidad reclama casi 19 millones de pesos por los afiches publicitarios expuestos en la vía pública entre marzo y agosto de 2021.\\n\\nLeé más sobre esto: Pérez Banchero y agencia de publicidad confirman rol de asesores de Cardoso en la asignación de pauta por compra directa\\nEl informe de Jurídica del ministerio fue elaborado por la abogada Florencia Marino y ratificado por la directora de la división, María Noelia Fernández. Las abogadas sostienen que el procedimiento de compra es inconcluso ya que no hubo una autorización directa por parte del ministerio para que la empresa empezara a trabajar.\\n\\nMarino indica que no cumple con las excepciones que habilitan a la compra directa, “en cuanto no existe resolución del jerarca del organismo, fundando la razones para ampararse a la excepción señalada, así como tampoco cuenta con la certificación del Ministerio de Economía y Finanzas, ni con la intervención del Tribunal de Cuentas de la República”.\\n\\nAsegura que si el servicio hubiera sido realizado sin autorización, tal como pasó, “no pueden efectuarse pagos al amparo del presente procedimiento, por encontrarse incompleto y por no haberse cumplido con los requisitos exigidos por las normas que lo regulan”.\\n\\nCardoso, durante su comparecencia en el Parlamento, se había pronunciado en la misma línea. Dijo que como él no había firmado la orden de contratación directa, el servicio “no se cobra”, y admitió que se trata de un “expediente inconcluso”. El diputado frenteamplista Gustavo Olmos también había cuestionado en ese momento que la empresa realizara trabajos por 24 millones de dólares “sin que nadie haya dado su conformidad”.\\n'"
      ]
     },
     "execution_count": 30,
     "metadata": {},
     "output_type": "execute_result"
    }
   ],
   "source": [
    "b_text.decode()"
   ]
  },
  {
   "cell_type": "code",
   "execution_count": 42,
   "id": "81973ef4-c8ea-4b04-babf-96a1896cdc8e",
   "metadata": {},
   "outputs": [],
   "source": [
    "class Demor:\n",
    "    md = 404\n",
    "    def __init__(self, var):\n",
    "        self.var = var\n",
    "    def __repr__(self):\n",
    "        return str(self.md)\n"
   ]
  },
  {
   "cell_type": "code",
   "execution_count": 43,
   "id": "b59d5a35-56a5-435d-b591-9dc0b3946631",
   "metadata": {},
   "outputs": [],
   "source": [
    "dm = Demor(45)"
   ]
  },
  {
   "cell_type": "code",
   "execution_count": 47,
   "id": "b75ab2c8-9736-41c2-bd1d-8422e94411f5",
   "metadata": {},
   "outputs": [],
   "source": [
    "dm.md = 334"
   ]
  },
  {
   "cell_type": "code",
   "execution_count": 48,
   "id": "341586df-a3e0-4182-a1da-530cb059d7eb",
   "metadata": {},
   "outputs": [
    {
     "data": {
      "text/plain": [
       "334"
      ]
     },
     "execution_count": 48,
     "metadata": {},
     "output_type": "execute_result"
    }
   ],
   "source": [
    "dm"
   ]
  }
 ],
 "metadata": {
  "kernelspec": {
   "display_name": "default:Python",
   "language": "python",
   "name": "conda-env-default-py"
  },
  "language_info": {
   "codemirror_mode": {
    "name": "ipython",
    "version": 3
   },
   "file_extension": ".py",
   "mimetype": "text/x-python",
   "name": "python",
   "nbconvert_exporter": "python",
   "pygments_lexer": "ipython3",
   "version": "3.9.10"
  }
 },
 "nbformat": 4,
 "nbformat_minor": 5
}
